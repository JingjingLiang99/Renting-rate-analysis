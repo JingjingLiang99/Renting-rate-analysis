{
 "cells": [
  {
   "cell_type": "code",
   "execution_count": 1,
   "metadata": {},
   "outputs": [],
   "source": [
    "import pandas as pd\n",
    "import numpy as np\n",
    "import math\n",
    "import ast\n",
    "\n",
    "# visualization\n",
    "import matplotlib.pyplot as plt\n",
    "%matplotlib inline\n",
    "import seaborn as sns\n",
    "\n",
    "RSEED = 30"
   ]
  },
  {
   "cell_type": "code",
   "execution_count": 3,
   "metadata": {},
   "outputs": [],
   "source": [
    "df = pd.read_csv(\"leasing_opportunity.csv\")"
   ]
  },
  {
   "cell_type": "code",
   "execution_count": 4,
   "metadata": {},
   "outputs": [
    {
     "data": {
      "text/html": [
       "<div>\n",
       "<style scoped>\n",
       "    .dataframe tbody tr th:only-of-type {\n",
       "        vertical-align: middle;\n",
       "    }\n",
       "\n",
       "    .dataframe tbody tr th {\n",
       "        vertical-align: top;\n",
       "    }\n",
       "\n",
       "    .dataframe thead th {\n",
       "        text-align: right;\n",
       "    }\n",
       "</style>\n",
       "<table border=\"1\" class=\"dataframe\">\n",
       "  <thead>\n",
       "    <tr style=\"text-align: right;\">\n",
       "      <th></th>\n",
       "      <th>bathrooms</th>\n",
       "      <th>bedrooms</th>\n",
       "      <th>building_id</th>\n",
       "      <th>created</th>\n",
       "      <th>description</th>\n",
       "      <th>display_address</th>\n",
       "      <th>features</th>\n",
       "      <th>latitude</th>\n",
       "      <th>listing_id</th>\n",
       "      <th>longitude</th>\n",
       "      <th>manager_id</th>\n",
       "      <th>photos</th>\n",
       "      <th>price</th>\n",
       "      <th>street_address</th>\n",
       "      <th>is_deal</th>\n",
       "      <th>gender</th>\n",
       "      <th>expected_price</th>\n",
       "      <th>followup</th>\n",
       "    </tr>\n",
       "  </thead>\n",
       "  <tbody>\n",
       "    <tr>\n",
       "      <th>0</th>\n",
       "      <td>1.5</td>\n",
       "      <td>3</td>\n",
       "      <td>53a5b119ba8f7b61d4e010512e0dfc85</td>\n",
       "      <td>24/06/2016 7:54</td>\n",
       "      <td>A Brand New 3 Bedroom 1.5 bath ApartmentEnjoy ...</td>\n",
       "      <td>Metropolitan Avenue</td>\n",
       "      <td>[]</td>\n",
       "      <td>40.7145</td>\n",
       "      <td>7211212</td>\n",
       "      <td>-73.9425</td>\n",
       "      <td>5ba989232d0489da1b5f2c45f6688adc</td>\n",
       "      <td>['https://photos.renthop.com/2/7211212_1ed4542...</td>\n",
       "      <td>3000.0</td>\n",
       "      <td>792 Metropolitan Avenue</td>\n",
       "      <td>1</td>\n",
       "      <td>female</td>\n",
       "      <td>2700.0</td>\n",
       "      <td>13.0</td>\n",
       "    </tr>\n",
       "    <tr>\n",
       "      <th>1</th>\n",
       "      <td>1</td>\n",
       "      <td>2</td>\n",
       "      <td>c5c8a357cba207596b04d1afd1e4f130</td>\n",
       "      <td>12/06/2016 12:19</td>\n",
       "      <td></td>\n",
       "      <td>Columbus Avenue</td>\n",
       "      <td>['Doorman', 'Elevator', 'Fitness Center', 'Cat...</td>\n",
       "      <td>40.7947</td>\n",
       "      <td>7150865</td>\n",
       "      <td>-73.9667</td>\n",
       "      <td>7533621a882f71e25173b27e3139d83d</td>\n",
       "      <td>['https://photos.renthop.com/2/7150865_be3306c...</td>\n",
       "      <td>5465.0</td>\n",
       "      <td>808 Columbus Avenue</td>\n",
       "      <td>0</td>\n",
       "      <td>male</td>\n",
       "      <td>5200.0</td>\n",
       "      <td>NaN</td>\n",
       "    </tr>\n",
       "    <tr>\n",
       "      <th>2</th>\n",
       "      <td>1</td>\n",
       "      <td>1</td>\n",
       "      <td>c3ba40552e2120b0acfc3cb5730bb2aa</td>\n",
       "      <td>17/04/2016 3:26</td>\n",
       "      <td>Top Top West Village location, beautiful Pre-w...</td>\n",
       "      <td>W 13 Street</td>\n",
       "      <td>['Laundry In Building', 'Dishwasher', 'Hardwoo...</td>\n",
       "      <td>40.7388</td>\n",
       "      <td>6887163</td>\n",
       "      <td>-74.0018</td>\n",
       "      <td>d9039c43983f6e564b1482b273bd7b01</td>\n",
       "      <td>['https://photos.renthop.com/2/6887163_de85c42...</td>\n",
       "      <td>2850.0</td>\n",
       "      <td>241 W 13 Street</td>\n",
       "      <td>1</td>\n",
       "      <td>male</td>\n",
       "      <td>2900.0</td>\n",
       "      <td>NaN</td>\n",
       "    </tr>\n",
       "    <tr>\n",
       "      <th>3</th>\n",
       "      <td>1</td>\n",
       "      <td>1</td>\n",
       "      <td>28d9ad350afeaab8027513a3e52ac8d5</td>\n",
       "      <td>18/04/2016 2:22</td>\n",
       "      <td>Building Amenities - Garage - Garden - fitness...</td>\n",
       "      <td>East 49th Street</td>\n",
       "      <td>['Hardwood Floors', 'No Fee']</td>\n",
       "      <td>40.7539</td>\n",
       "      <td>6888711</td>\n",
       "      <td>-73.9677</td>\n",
       "      <td>1067e078446a7897d2da493d2f741316</td>\n",
       "      <td>['https://photos.renthop.com/2/6888711_6e660ce...</td>\n",
       "      <td>3275.0</td>\n",
       "      <td>333 East 49th Street</td>\n",
       "      <td>0</td>\n",
       "      <td>female</td>\n",
       "      <td>3500.0</td>\n",
       "      <td>NaN</td>\n",
       "    </tr>\n",
       "    <tr>\n",
       "      <th>4</th>\n",
       "      <td>1</td>\n",
       "      <td>4</td>\n",
       "      <td>0</td>\n",
       "      <td>28/04/2016 1:32</td>\n",
       "      <td>Beautifully renovated 3 bedroom flex 4 bedroom...</td>\n",
       "      <td>West 143rd Street</td>\n",
       "      <td>['Pre-War']</td>\n",
       "      <td>40.8241</td>\n",
       "      <td>6934781</td>\n",
       "      <td>-73.9493</td>\n",
       "      <td>98e13ad4b495b9613cef886d79a6291f</td>\n",
       "      <td>['https://photos.renthop.com/2/6934781_1fa4b41...</td>\n",
       "      <td>3350.0</td>\n",
       "      <td>500 West 143rd Street</td>\n",
       "      <td>0</td>\n",
       "      <td>female</td>\n",
       "      <td>3200.0</td>\n",
       "      <td>0.0</td>\n",
       "    </tr>\n",
       "  </tbody>\n",
       "</table>\n",
       "</div>"
      ],
      "text/plain": [
       "  bathrooms bedrooms                       building_id           created  \\\n",
       "0       1.5        3  53a5b119ba8f7b61d4e010512e0dfc85   24/06/2016 7:54   \n",
       "1         1        2  c5c8a357cba207596b04d1afd1e4f130  12/06/2016 12:19   \n",
       "2         1        1  c3ba40552e2120b0acfc3cb5730bb2aa   17/04/2016 3:26   \n",
       "3         1        1  28d9ad350afeaab8027513a3e52ac8d5   18/04/2016 2:22   \n",
       "4         1        4                                 0   28/04/2016 1:32   \n",
       "\n",
       "                                         description      display_address  \\\n",
       "0  A Brand New 3 Bedroom 1.5 bath ApartmentEnjoy ...  Metropolitan Avenue   \n",
       "1                                                         Columbus Avenue   \n",
       "2  Top Top West Village location, beautiful Pre-w...          W 13 Street   \n",
       "3  Building Amenities - Garage - Garden - fitness...     East 49th Street   \n",
       "4  Beautifully renovated 3 bedroom flex 4 bedroom...    West 143rd Street   \n",
       "\n",
       "                                            features latitude listing_id  \\\n",
       "0                                                 []  40.7145    7211212   \n",
       "1  ['Doorman', 'Elevator', 'Fitness Center', 'Cat...  40.7947    7150865   \n",
       "2  ['Laundry In Building', 'Dishwasher', 'Hardwoo...  40.7388    6887163   \n",
       "3                      ['Hardwood Floors', 'No Fee']  40.7539    6888711   \n",
       "4                                        ['Pre-War']  40.8241    6934781   \n",
       "\n",
       "   longitude                        manager_id  \\\n",
       "0   -73.9425  5ba989232d0489da1b5f2c45f6688adc   \n",
       "1   -73.9667  7533621a882f71e25173b27e3139d83d   \n",
       "2   -74.0018  d9039c43983f6e564b1482b273bd7b01   \n",
       "3   -73.9677  1067e078446a7897d2da493d2f741316   \n",
       "4   -73.9493  98e13ad4b495b9613cef886d79a6291f   \n",
       "\n",
       "                                              photos   price  \\\n",
       "0  ['https://photos.renthop.com/2/7211212_1ed4542...  3000.0   \n",
       "1  ['https://photos.renthop.com/2/7150865_be3306c...  5465.0   \n",
       "2  ['https://photos.renthop.com/2/6887163_de85c42...  2850.0   \n",
       "3  ['https://photos.renthop.com/2/6888711_6e660ce...  3275.0   \n",
       "4  ['https://photos.renthop.com/2/6934781_1fa4b41...  3350.0   \n",
       "\n",
       "            street_address  is_deal  gender  expected_price  followup  \n",
       "0  792 Metropolitan Avenue        1  female          2700.0      13.0  \n",
       "1      808 Columbus Avenue        0    male          5200.0       NaN  \n",
       "2          241 W 13 Street        1    male          2900.0       NaN  \n",
       "3     333 East 49th Street        0  female          3500.0       NaN  \n",
       "4    500 West 143rd Street        0  female          3200.0       0.0  "
      ]
     },
     "execution_count": 4,
     "metadata": {},
     "output_type": "execute_result"
    }
   ],
   "source": [
    "df.head()"
   ]
  },
  {
   "cell_type": "code",
   "execution_count": 4,
   "metadata": {},
   "outputs": [
    {
     "data": {
      "text/plain": [
       "Index(['bathrooms', 'bedrooms', 'building_id', 'created', 'description',\n",
       "       'display_address', 'features', 'latitude', 'listing_id', 'longitude',\n",
       "       'manager_id', 'photos', 'price', 'street_address', 'is_deal', 'gender',\n",
       "       'expected_price', 'followup'],\n",
       "      dtype='object')"
      ]
     },
     "execution_count": 4,
     "metadata": {},
     "output_type": "execute_result"
    }
   ],
   "source": [
    "df.columns"
   ]
  },
  {
   "cell_type": "code",
   "execution_count": 5,
   "metadata": {},
   "outputs": [
    {
     "data": {
      "text/html": [
       "<div>\n",
       "<style scoped>\n",
       "    .dataframe tbody tr th:only-of-type {\n",
       "        vertical-align: middle;\n",
       "    }\n",
       "\n",
       "    .dataframe tbody tr th {\n",
       "        vertical-align: top;\n",
       "    }\n",
       "\n",
       "    .dataframe thead th {\n",
       "        text-align: right;\n",
       "    }\n",
       "</style>\n",
       "<table border=\"1\" class=\"dataframe\">\n",
       "  <thead>\n",
       "    <tr style=\"text-align: right;\">\n",
       "      <th></th>\n",
       "      <th>longitude</th>\n",
       "      <th>price</th>\n",
       "      <th>is_deal</th>\n",
       "      <th>expected_price</th>\n",
       "      <th>followup</th>\n",
       "    </tr>\n",
       "  </thead>\n",
       "  <tbody>\n",
       "    <tr>\n",
       "      <th>count</th>\n",
       "      <td>48755.000000</td>\n",
       "      <td>4.875500e+04</td>\n",
       "      <td>53675.000000</td>\n",
       "      <td>4.875500e+04</td>\n",
       "      <td>26872.000000</td>\n",
       "    </tr>\n",
       "    <tr>\n",
       "      <th>mean</th>\n",
       "      <td>-73.955557</td>\n",
       "      <td>3.842052e+03</td>\n",
       "      <td>0.234094</td>\n",
       "      <td>3.791076e+03</td>\n",
       "      <td>7.498735</td>\n",
       "    </tr>\n",
       "    <tr>\n",
       "      <th>std</th>\n",
       "      <td>1.185096</td>\n",
       "      <td>2.220097e+04</td>\n",
       "      <td>0.423435</td>\n",
       "      <td>2.220123e+04</td>\n",
       "      <td>4.614796</td>\n",
       "    </tr>\n",
       "    <tr>\n",
       "      <th>min</th>\n",
       "      <td>-118.271000</td>\n",
       "      <td>4.300000e+01</td>\n",
       "      <td>0.000000</td>\n",
       "      <td>-4.000000e+02</td>\n",
       "      <td>0.000000</td>\n",
       "    </tr>\n",
       "    <tr>\n",
       "      <th>25%</th>\n",
       "      <td>-73.991700</td>\n",
       "      <td>2.500000e+03</td>\n",
       "      <td>0.000000</td>\n",
       "      <td>2.400000e+03</td>\n",
       "      <td>4.000000</td>\n",
       "    </tr>\n",
       "    <tr>\n",
       "      <th>50%</th>\n",
       "      <td>-73.977900</td>\n",
       "      <td>3.150000e+03</td>\n",
       "      <td>0.000000</td>\n",
       "      <td>3.100000e+03</td>\n",
       "      <td>7.000000</td>\n",
       "    </tr>\n",
       "    <tr>\n",
       "      <th>75%</th>\n",
       "      <td>-73.954800</td>\n",
       "      <td>4.100000e+03</td>\n",
       "      <td>0.000000</td>\n",
       "      <td>4.100000e+03</td>\n",
       "      <td>11.000000</td>\n",
       "    </tr>\n",
       "    <tr>\n",
       "      <th>max</th>\n",
       "      <td>0.000000</td>\n",
       "      <td>4.490000e+06</td>\n",
       "      <td>1.000000</td>\n",
       "      <td>4.489600e+06</td>\n",
       "      <td>15.000000</td>\n",
       "    </tr>\n",
       "  </tbody>\n",
       "</table>\n",
       "</div>"
      ],
      "text/plain": [
       "          longitude         price       is_deal  expected_price      followup\n",
       "count  48755.000000  4.875500e+04  53675.000000    4.875500e+04  26872.000000\n",
       "mean     -73.955557  3.842052e+03      0.234094    3.791076e+03      7.498735\n",
       "std        1.185096  2.220097e+04      0.423435    2.220123e+04      4.614796\n",
       "min     -118.271000  4.300000e+01      0.000000   -4.000000e+02      0.000000\n",
       "25%      -73.991700  2.500000e+03      0.000000    2.400000e+03      4.000000\n",
       "50%      -73.977900  3.150000e+03      0.000000    3.100000e+03      7.000000\n",
       "75%      -73.954800  4.100000e+03      0.000000    4.100000e+03     11.000000\n",
       "max        0.000000  4.490000e+06      1.000000    4.489600e+06     15.000000"
      ]
     },
     "execution_count": 5,
     "metadata": {},
     "output_type": "execute_result"
    }
   ],
   "source": [
    "df.describe()"
   ]
  },
  {
   "cell_type": "code",
   "execution_count": 6,
   "metadata": {},
   "outputs": [
    {
     "name": "stdout",
     "output_type": "stream",
     "text": [
      "<class 'pandas.core.frame.DataFrame'>\n",
      "RangeIndex: 53675 entries, 0 to 53674\n",
      "Data columns (total 18 columns):\n",
      " #   Column           Non-Null Count  Dtype  \n",
      "---  ------           --------------  -----  \n",
      " 0   bathrooms        49930 non-null  object \n",
      " 1   bedrooms         49949 non-null  object \n",
      " 2   building_id      49949 non-null  object \n",
      " 3   created          49949 non-null  object \n",
      " 4   description      48498 non-null  object \n",
      " 5   display_address  49316 non-null  object \n",
      " 6   features         49352 non-null  object \n",
      " 7   latitude         49352 non-null  object \n",
      " 8   listing_id       49272 non-null  object \n",
      " 9   longitude        48755 non-null  float64\n",
      " 10  manager_id       48755 non-null  object \n",
      " 11  photos           48755 non-null  object \n",
      " 12  price            48755 non-null  float64\n",
      " 13  street_address   48745 non-null  object \n",
      " 14  is_deal          53675 non-null  int64  \n",
      " 15  gender           53675 non-null  object \n",
      " 16  expected_price   48755 non-null  float64\n",
      " 17  followup         26872 non-null  float64\n",
      "dtypes: float64(4), int64(1), object(13)\n",
      "memory usage: 7.4+ MB\n"
     ]
    }
   ],
   "source": [
    "df.info()"
   ]
  },
  {
   "cell_type": "code",
   "execution_count": 7,
   "metadata": {},
   "outputs": [
    {
     "data": {
      "image/png": "[encoded data removed]",
      "text/plain": [
       "<Figure size 936x720 with 6 Axes>"
      ]
     },
     "metadata": {
      "needs_background": "light"
     },
     "output_type": "display_data"
    }
   ],
   "source": [
    "df.hist(figsize=(13,10))\n",
    "plt.show()"
   ]
  },
  {
   "cell_type": "markdown",
   "metadata": {},
   "source": [
    "## 1. data cleaning\n",
    "- 如何处理NaN\n",
    "- 如何处理异常值（price = 1000000）\n",
    "\n",
    "## 2. feature understaing\n",
    "- 看看feature和target(is_deal)之间的correlation\n",
    "\n",
    "## feature engineering\n",
    "- string --> catagorial --> feature\n",
    "- bin --> catagorial feature\n",
    "\n",
    "## 3. data partitioning\n",
    "- k-fold\n",
    "\n",
    "## 4. modeling\n",
    "- logistic\n",
    "- decision tree\n",
    "- random forest\n",
    "- xgboost\n",
    "\n",
    "## 5. explanation and report"
   ]
  },
  {
   "cell_type": "markdown",
   "metadata": {},
   "source": [
    "# 1. feature engineering"
   ]
  },
  {
   "cell_type": "code",
   "execution_count": 8,
   "metadata": {},
   "outputs": [
    {
     "data": {
      "text/plain": [
       "Index(['bathrooms', 'bedrooms', 'building_id', 'created', 'description',\n",
       "       'display_address', 'features', 'latitude', 'listing_id', 'longitude',\n",
       "       'manager_id', 'photos', 'price', 'street_address', 'is_deal', 'gender',\n",
       "       'expected_price', 'followup'],\n",
       "      dtype='object')"
      ]
     },
     "execution_count": 8,
     "metadata": {},
     "output_type": "execute_result"
    }
   ],
   "source": [
    "df.columns"
   ]
  },
  {
   "cell_type": "code",
   "execution_count": 5,
   "metadata": {},
   "outputs": [],
   "source": [
    "df_final = pd.DataFrame()"
   ]
  },
  {
   "cell_type": "markdown",
   "metadata": {},
   "source": [
    "## 1.1 deal with bathrooms, bedrooms"
   ]
  },
  {
   "cell_type": "code",
   "execution_count": 6,
   "metadata": {},
   "outputs": [],
   "source": [
    "df['bathrooms'] = pd.to_numeric(df['bathrooms'], errors='coerce')\n",
    "df['bedrooms'] = pd.to_numeric(df['bedrooms'], errors='coerce')"
   ]
  },
  {
   "cell_type": "code",
   "execution_count": 7,
   "metadata": {},
   "outputs": [
    {
     "data": {
      "text/html": [
       "<div>\n",
       "<style scoped>\n",
       "    .dataframe tbody tr th:only-of-type {\n",
       "        vertical-align: middle;\n",
       "    }\n",
       "\n",
       "    .dataframe tbody tr th {\n",
       "        vertical-align: top;\n",
       "    }\n",
       "\n",
       "    .dataframe thead th {\n",
       "        text-align: right;\n",
       "    }\n",
       "</style>\n",
       "<table border=\"1\" class=\"dataframe\">\n",
       "  <thead>\n",
       "    <tr style=\"text-align: right;\">\n",
       "      <th></th>\n",
       "      <th>bathrooms</th>\n",
       "      <th>bedrooms</th>\n",
       "    </tr>\n",
       "  </thead>\n",
       "  <tbody>\n",
       "    <tr>\n",
       "      <th>0</th>\n",
       "      <td>1.5</td>\n",
       "      <td>3.0</td>\n",
       "    </tr>\n",
       "    <tr>\n",
       "      <th>1</th>\n",
       "      <td>1.0</td>\n",
       "      <td>2.0</td>\n",
       "    </tr>\n",
       "    <tr>\n",
       "      <th>2</th>\n",
       "      <td>1.0</td>\n",
       "      <td>1.0</td>\n",
       "    </tr>\n",
       "    <tr>\n",
       "      <th>3</th>\n",
       "      <td>1.0</td>\n",
       "      <td>1.0</td>\n",
       "    </tr>\n",
       "    <tr>\n",
       "      <th>4</th>\n",
       "      <td>1.0</td>\n",
       "      <td>4.0</td>\n",
       "    </tr>\n",
       "  </tbody>\n",
       "</table>\n",
       "</div>"
      ],
      "text/plain": [
       "   bathrooms  bedrooms\n",
       "0        1.5       3.0\n",
       "1        1.0       2.0\n",
       "2        1.0       1.0\n",
       "3        1.0       1.0\n",
       "4        1.0       4.0"
      ]
     },
     "execution_count": 7,
     "metadata": {},
     "output_type": "execute_result"
    }
   ],
   "source": [
    "df_final[['bathrooms', 'bedrooms']] = df[['bathrooms', 'bedrooms']]\n",
    "df_final.head()"
   ]
  },
  {
   "cell_type": "markdown",
   "metadata": {},
   "source": [
    "## 1.2 deal with building_id"
   ]
  },
  {
   "cell_type": "code",
   "execution_count": 8,
   "metadata": {},
   "outputs": [
    {
     "data": {
      "text/plain": [
       "Index(['bathrooms', 'bedrooms', 'building_id', 'created', 'description',\n",
       "       'display_address', 'features', 'latitude', 'listing_id', 'longitude',\n",
       "       'manager_id', 'photos', 'price', 'street_address', 'is_deal', 'gender',\n",
       "       'expected_price', 'followup'],\n",
       "      dtype='object')"
      ]
     },
     "execution_count": 8,
     "metadata": {},
     "output_type": "execute_result"
    }
   ],
   "source": [
    "df.columns"
   ]
  },
  {
   "cell_type": "code",
   "execution_count": 9,
   "metadata": {},
   "outputs": [
    {
     "name": "stdout",
     "output_type": "stream",
     "text": [
      "building_id has  7662  unique values\n"
     ]
    }
   ],
   "source": [
    "print('building_id has ', len(df['building_id'].unique()), ' unique values')"
   ]
  },
  {
   "cell_type": "code",
   "execution_count": 10,
   "metadata": {},
   "outputs": [
    {
     "name": "stdout",
     "output_type": "stream",
     "text": [
      "listing_id has  49229  unique values\n"
     ]
    }
   ],
   "source": [
    "print('listing_id has ', len(df['listing_id'].unique()), ' unique values')"
   ]
  },
  {
   "cell_type": "code",
   "execution_count": 11,
   "metadata": {},
   "outputs": [
    {
     "name": "stdout",
     "output_type": "stream",
     "text": [
      "manager_id has  3470  unique values\n"
     ]
    }
   ],
   "source": [
    "print('manager_id has ', len(df['manager_id'].unique()), ' unique values')"
   ]
  },
  {
   "cell_type": "markdown",
   "metadata": {},
   "source": [
    "# 1.3 deal with description"
   ]
  },
  {
   "cell_type": "code",
   "execution_count": 12,
   "metadata": {},
   "outputs": [
    {
     "data": {
      "text/plain": [
       "0        A Brand New 3 Bedroom 1.5 bath ApartmentEnjoy ...\n",
       "1                                                         \n",
       "2        Top Top West Village location, beautiful Pre-w...\n",
       "3        Building Amenities - Garage - Garden - fitness...\n",
       "4        Beautifully renovated 3 bedroom flex 4 bedroom...\n",
       "                               ...                        \n",
       "53670    30TH/3RD, MASSIVE CONV 2BR IN LUXURY FULL SERV...\n",
       "53671    HIGH END condo finishes, swimming pool, and ki...\n",
       "53672    Large Renovated One Bedroom Apartment with Sta...\n",
       "53673    Stylishly sleek studio apartment with unsurpas...\n",
       "53674    Look no further!!!  This giant 2 bedroom apart...\n",
       "Name: description, Length: 53675, dtype: object"
      ]
     },
     "execution_count": 12,
     "metadata": {},
     "output_type": "execute_result"
    }
   ],
   "source": [
    "df['description']"
   ]
  },
  {
   "cell_type": "code",
   "execution_count": 13,
   "metadata": {},
   "outputs": [
    {
     "name": "stdout",
     "output_type": "stream",
     "text": [
      "Collecting textblob\n",
      "  Downloading textblob-0.15.3-py2.py3-none-any.whl (636 kB)\n",
      "Requirement already satisfied: nltk>=3.1 in f:\\python\\lib\\site-packages (from textblob) (3.5)\n",
      "Requirement already satisfied: click in f:\\python\\lib\\site-packages (from nltk>=3.1->textblob) (7.1.2)\n",
      "Requirement already satisfied: joblib in f:\\python\\lib\\site-packages (from nltk>=3.1->textblob) (0.16.0)\n",
      "Requirement already satisfied: tqdm in f:\\python\\lib\\site-packages (from nltk>=3.1->textblob) (4.47.0)\n",
      "Requirement already satisfied: regex in f:\\python\\lib\\site-packages (from nltk>=3.1->textblob) (2020.6.8)\n",
      "Installing collected packages: textblob\n",
      "Successfully installed textblob-0.15.3\n"
     ]
    }
   ],
   "source": [
    "!pip install textblob"
   ]
  },
  {
   "cell_type": "code",
   "execution_count": 14,
   "metadata": {},
   "outputs": [
    {
     "name": "stderr",
     "output_type": "stream",
     "text": [
      "[nltk_data] Downloading package punkt to\n",
      "[nltk_data]     C:\\Users\\HP\\AppData\\Roaming\\nltk_data...\n",
      "[nltk_data]   Unzipping tokenizers\\punkt.zip.\n"
     ]
    },
    {
     "data": {
      "text/plain": [
       "True"
      ]
     },
     "execution_count": 14,
     "metadata": {},
     "output_type": "execute_result"
    }
   ],
   "source": [
    "import nltk\n",
    "nltk.download('punkt')"
   ]
  },
  {
   "cell_type": "code",
   "execution_count": 15,
   "metadata": {},
   "outputs": [
    {
     "data": {
      "text/plain": [
       "Sentiment(polarity=0.8, subjectivity=1.0)"
      ]
     },
     "execution_count": 15,
     "metadata": {},
     "output_type": "execute_result"
    }
   ],
   "source": [
    "from textblob import TextBlob\n",
    "\n",
    "string = 'a happy day'\n",
    "blob = TextBlob(string)\n",
    "blob.sentiment"
   ]
  },
  {
   "cell_type": "code",
   "execution_count": 16,
   "metadata": {},
   "outputs": [
    {
     "data": {
      "text/plain": [
       "[Sentence(\"a happy day.\"), Sentence(\"i am so happy\")]"
      ]
     },
     "execution_count": 16,
     "metadata": {},
     "output_type": "execute_result"
    }
   ],
   "source": [
    "string = 'a happy day. i am so happy'\n",
    "blob = TextBlob(string)\n",
    "blob.sentences"
   ]
  },
  {
   "cell_type": "code",
   "execution_count": 21,
   "metadata": {},
   "outputs": [],
   "source": [
    "# description_list = list(df['description'])\n",
    "\n",
    "# from textblob import TextBlob\n",
    "\n",
    "# dscpt_polarity = []\n",
    "# dscpt_subjectivity = []\n",
    "\n",
    "# for text in description_list:\n",
    "#     blob = TextBlob(str(text))\n",
    "    \n",
    "#     polarity = []\n",
    "#     subjectivity = []\n",
    "#     for sentence in blob.sentences:\n",
    "#         polarity.append(sentence.sentiment.polarity)\n",
    "#         subjectivity.append(sentence.sentiment.subjectivity)\n",
    "    \n",
    "#     if len(polarity) > 0:\n",
    "#         avg_polarity = sum(polarity)/len(polarity)\n",
    "#     else:\n",
    "#         avg_polarity = 0\n",
    "# #         avg_polarity = float(\"nan\")\n",
    "        \n",
    "#     if len(subjectivity) > 0:\n",
    "#         avg_subjectivity = sum(subjectivity)/len(subjectivity)\n",
    "#     else:\n",
    "#         avg_polarity = 0\n",
    "# #         avg_subjectivity = float('nan')\n",
    "\n",
    "#     dscpt_polarity.append(avg_polarity)\n",
    "#     dscpt_subjectivity.append(avg_subjectivity)\n"
   ]
  },
  {
   "cell_type": "code",
   "execution_count": 17,
   "metadata": {},
   "outputs": [],
   "source": [
    "from textblob import TextBlob\n",
    "import numpy as np\n",
    "\n",
    "def get_sentiment(text):\n",
    "    blob = TextBlob(str(text))\n",
    "    if len(blob.sentences) == 0:\n",
    "        return (0,0)\n",
    "    polarity = [sentence.sentiment.polarity for sentence in blob.sentences]\n",
    "    subjectivity = [sentence.sentiment.subjectivity for sentence in blob.sentences]\n",
    "    polarity_avg = np.mean(polarity)\n",
    "    subjectivity_avg = np.mean(subjectivity)\n",
    "    return (polarity_avg, subjectivity_avg)"
   ]
  },
  {
   "cell_type": "code",
   "execution_count": 18,
   "metadata": {},
   "outputs": [
    {
     "data": {
      "text/plain": [
       "\"A Brand New 3 Bedroom 1.5 bath ApartmentEnjoy These Following Apartment Features As You Rent Here? Modern Designed Bathroom w/ a Deep Spa Soaking Tub? Room to Room AC/Heat? Real Oak Hardwood Floors? Rain Forest Shower Head? SS steel Appliances w/ Chef Gas Cook Oven & LG Fridge? washer /dryer in the apt? Cable Internet Ready? Granite Counter Top Kitchen w/ lot of cabinet storage spaceIt's Just A Few blocks To L Train<br /><br />Don't miss out!<br /><br />We have several great apartments in the immediate area.<br /><br />For additional information 687-878-2229<p><a  website_redacted \""
      ]
     },
     "execution_count": 18,
     "metadata": {},
     "output_type": "execute_result"
    }
   ],
   "source": [
    "df['description'].iloc[0]"
   ]
  },
  {
   "cell_type": "code",
   "execution_count": 19,
   "metadata": {},
   "outputs": [
    {
     "data": {
      "text/plain": [
       "(0.16035353535353536, 0.3071969696969697)"
      ]
     },
     "execution_count": 19,
     "metadata": {},
     "output_type": "execute_result"
    }
   ],
   "source": [
    "get_sentiment(df['description'].iloc[0])"
   ]
  },
  {
   "cell_type": "code",
   "execution_count": 20,
   "metadata": {},
   "outputs": [],
   "source": [
    "df[['dscpt_polarity', 'dscpt_subjectivity']] = df[['description']].apply(get_sentiment, axis=1, result_type=\"expand\")"
   ]
  },
  {
   "cell_type": "code",
   "execution_count": 21,
   "metadata": {},
   "outputs": [
    {
     "data": {
      "text/html": [
       "<div>\n",
       "<style scoped>\n",
       "    .dataframe tbody tr th:only-of-type {\n",
       "        vertical-align: middle;\n",
       "    }\n",
       "\n",
       "    .dataframe tbody tr th {\n",
       "        vertical-align: top;\n",
       "    }\n",
       "\n",
       "    .dataframe thead th {\n",
       "        text-align: right;\n",
       "    }\n",
       "</style>\n",
       "<table border=\"1\" class=\"dataframe\">\n",
       "  <thead>\n",
       "    <tr style=\"text-align: right;\">\n",
       "      <th></th>\n",
       "      <th>bathrooms</th>\n",
       "      <th>bedrooms</th>\n",
       "      <th>dscpt_polarity</th>\n",
       "      <th>dscpt_subjectivity</th>\n",
       "    </tr>\n",
       "  </thead>\n",
       "  <tbody>\n",
       "    <tr>\n",
       "      <th>0</th>\n",
       "      <td>1.5</td>\n",
       "      <td>3.0</td>\n",
       "      <td>0.136364</td>\n",
       "      <td>0.454545</td>\n",
       "    </tr>\n",
       "    <tr>\n",
       "      <th>1</th>\n",
       "      <td>1.0</td>\n",
       "      <td>2.0</td>\n",
       "      <td>0.000000</td>\n",
       "      <td>0.000000</td>\n",
       "    </tr>\n",
       "    <tr>\n",
       "      <th>2</th>\n",
       "      <td>1.0</td>\n",
       "      <td>1.0</td>\n",
       "      <td>0.616667</td>\n",
       "      <td>0.666667</td>\n",
       "    </tr>\n",
       "    <tr>\n",
       "      <th>3</th>\n",
       "      <td>1.0</td>\n",
       "      <td>1.0</td>\n",
       "      <td>0.500000</td>\n",
       "      <td>1.000000</td>\n",
       "    </tr>\n",
       "    <tr>\n",
       "      <th>4</th>\n",
       "      <td>1.0</td>\n",
       "      <td>4.0</td>\n",
       "      <td>0.850000</td>\n",
       "      <td>1.000000</td>\n",
       "    </tr>\n",
       "  </tbody>\n",
       "</table>\n",
       "</div>"
      ],
      "text/plain": [
       "   bathrooms  bedrooms  dscpt_polarity  dscpt_subjectivity\n",
       "0        1.5       3.0        0.136364            0.454545\n",
       "1        1.0       2.0        0.000000            0.000000\n",
       "2        1.0       1.0        0.616667            0.666667\n",
       "3        1.0       1.0        0.500000            1.000000\n",
       "4        1.0       4.0        0.850000            1.000000"
      ]
     },
     "execution_count": 21,
     "metadata": {},
     "output_type": "execute_result"
    }
   ],
   "source": [
    "df_final[['dscpt_polarity', 'dscpt_subjectivity']] = df[['dscpt_polarity', 'dscpt_subjectivity']]\n",
    "df_final.head()"
   ]
  },
  {
   "cell_type": "markdown",
   "metadata": {},
   "source": [
    "# Hint 1: features这一列如何进行特征工程"
   ]
  },
  {
   "cell_type": "markdown",
   "metadata": {},
   "source": [
    "features表示该公寓的一些特色，比如是否有电梯，是否有健身房等。这个特色会影响到一个租客最终是否签约。这一列本身的数据类似是string，string里面有list，list里面的每个element是真正的feature。我们如何提取这些featur进行训练呢？\n",
    "\n",
    "原来\n",
    "\n",
    "| features |   |   |   |   |\n",
    "|---       |---|---|---|---| \n",
    "| doorman  |   |   |   |   |\n",
    "| elevater |   |   |   |   |\n",
    "| NaN      |   |   |   |   |\n",
    "\n",
    "\n",
    "特征工程后\n",
    "\n",
    "| doorman | elevater  |   |   |   |\n",
    "|---      |---|---|---|---| \n",
    "| 1       | 0  |   |   |   |\n",
    "| 0       | 1  |   |   |   |\n",
    "| 0       | 0  |   |   |   |\n",
    "\n"
   ]
  },
  {
   "cell_type": "code",
   "execution_count": 22,
   "metadata": {},
   "outputs": [
    {
     "data": {
      "text/plain": [
       "0                                                   []\n",
       "1    ['Doorman', 'Elevator', 'Fitness Center', 'Cat...\n",
       "2    ['Laundry In Building', 'Dishwasher', 'Hardwoo...\n",
       "3                        ['Hardwood Floors', 'No Fee']\n",
       "4                                          ['Pre-War']\n",
       "Name: features, dtype: object"
      ]
     },
     "execution_count": 22,
     "metadata": {},
     "output_type": "execute_result"
    }
   ],
   "source": [
    "df['features'].head()"
   ]
  },
  {
   "cell_type": "markdown",
   "metadata": {},
   "source": [
    "df.loc[df['features'].isnull(), 'features']"
   ]
  },
  {
   "cell_type": "code",
   "execution_count": 24,
   "metadata": {},
   "outputs": [],
   "source": [
    "df['features'] = df['features'].fillna('[]')"
   ]
  },
  {
   "cell_type": "code",
   "execution_count": 25,
   "metadata": {},
   "outputs": [
    {
     "data": {
      "text/plain": [
       "array(['92758310b2a962b943484e8be0237a19',\n",
       "       '4bdc3d8c1aaa90d997ce2cb77680679b',\n",
       "       '624c1fbd75e5f99e6a7164cce1b1b8a4',\n",
       "       'ff707b7f0a2ea94a26c784f06c9fec69',\n",
       "       '699c325b818541f314b691b76f3238d7',\n",
       "       'a1e83422f637157e3c14ab88d585b769',\n",
       "       '5c11016f3d21d673b15db9f058c90200',\n",
       "       'a621bebe105d26cd338d4c54f35f52e6',\n",
       "       'c80aad40b6abd065b4aefee40a2154f6',\n",
       "       '8b53ccf4338806ab1be3dd0267711649',\n",
       "       'f510c42fc9e8765f19317cf2f84e3114',\n",
       "       '536aaedf27d13fb487c142dae8133211',\n",
       "       'c71cf1f472cf9b4b4517ea23fb6f2c91',\n",
       "       'e6472c7237327dd3903b3d6f6a94515a',\n",
       "       'b4518af7cc5d79517aca4157f1614478',\n",
       "       '407ffad8d323810a4712d1446d5ad457',\n",
       "       '90ddcebc5f1df89389cbc519535e0f2a',\n",
       "       'df86259b169a78c024e4d5206d48cf44',\n",
       "       '4bb850e243db09298a0bda50f9a99c81',\n",
       "       '7892b9714d30934b1863796d61fbb81c',\n",
       "       '6c2a16187e6855c132bb496b875a4ef7',\n",
       "       'ef6323ef586350bb4f8dc78d924e856a',\n",
       "       'd69d4e111612dd12ef864031c1148543',\n",
       "       'a4a468c229a6094d3811489361d08819',\n",
       "       '0492625ca98a35bd7d75849f6b4944ae',\n",
       "       '7775d78b3c97487fba1df0727f4b167b',\n",
       "       'fd1d4ee0095d41d209e23530141eaabf',\n",
       "       '952078cf22eae4e31eb70604c9d4220c',\n",
       "       'b4405fd648b8ebd2b98861d6aa8e4969',\n",
       "       '19f0651b8a5f76062fe2c9369e2dd76c',\n",
       "       '1f286bebfce89e810809880775f11a26',\n",
       "       '72db53045d9648ddb3023fa80885a49c',\n",
       "       '8d2926bae27fce9f700b488934563844',\n",
       "       '836119ecf05f96f399c7f3df34dee1a7',\n",
       "       '287e23e5a3f64c939cdb8109713b25e4',\n",
       "       'edd073f8dea85637f8b7d589faa7902b',\n",
       "       'd0f2082e8b795095061785ef5e8ac9e7',\n",
       "       'f07272f8ceb99db4c1a7cbbd9ae7b75b',\n",
       "       '0cb0dc4da84b0d97c6e3ccb369aba83e',\n",
       "       '63da1f6025a369fa2c4b036130784a84',\n",
       "       '465641627d253016ac8683943fd94ffe',\n",
       "       '32396a0a600b721a4a7655d4ddcedc4d',\n",
       "       'd23f9a9e6b9f6003f26017bda6dd1cb2',\n",
       "       'b9e74dc56199a8e6577aa8bb3550f1e4',\n",
       "       '89b262f811547861d9cccc374be275d0',\n",
       "       '6b3fc4bf56631914dce770d406ed8007',\n",
       "       '10b1ae0a38d50b7ba0cee612d14af9eb',\n",
       "       '0bafd514443193d057e8a60e45cb7ea6',\n",
       "       'b8459916140cbfc69344eab991b441bd',\n",
       "       'bf2f68c09a8f9b6287b4e1f7cbedce65',\n",
       "       'c9d2c946c5c94b549d2029b024e5aaa1',\n",
       "       '0ed22c41834a89b0905341a4883bcfd8',\n",
       "       'cfa86c14c312b92a7d035bd3437c2043',\n",
       "       '97c4e11df6603e1dd21d88c7fc18013d',\n",
       "       'e2aa71ea7e46aa975a6cefa35f64d28b',\n",
       "       '524a48d3526730bec7262442b3aa9a94',\n",
       "       '829999af312c93d6b1d1520dbad4983f',\n",
       "       'f289f53a367315caae592753ba0bc63d',\n",
       "       'b7a1f2d6ea66497b087690e796ca43ba',\n",
       "       '381152a75a238372d3d475934219eb6d',\n",
       "       '205f1a20fe0ebac01902c71a15dfbc9b',\n",
       "       'b68f249ae0aeb220626960fa1934c418',\n",
       "       '3ab7c26842f970df4f7dc555dffc387d',\n",
       "       'f2e973c3ef0c652556f3006a51bce015',\n",
       "       '09e098b612b87107ff4f047cff3acfec',\n",
       "       '84a317f6bce6e3c05dec6fb070dd7e0b',\n",
       "       'd2b7068bc4e5e74ba13954559d1d120d',\n",
       "       '6894090792e447da3d8c2817c6577ea5',\n",
       "       'f32c29c47890054822a062c48ed0229f',\n",
       "       'd4444244953f1ba2045b446e0b40543f',\n",
       "       'a820f872b24c51a030b4d25059fbaac8',\n",
       "       'ce9605e5f21262b82deb0c5ef10dcf45',\n",
       "       'f5e44ef976867c828130d0e6e6cdbda5',\n",
       "       '29351e3e25283e3c6c324f7d0904153b',\n",
       "       'bc9a2ff7c931ce7de08f50d429134a16',\n",
       "       '87b5619c569d2d9a8fb8c91d901b7b54',\n",
       "       '8d425b08cdf4dec134bf5b714ebac267',\n",
       "       'c0a635e032b6a0f40ba7bc1e5ebf4809',\n",
       "       '1badf2eefe8228387979149413ec071b',\n",
       "       'b0bea7357fc07d2716c68644dc8a312c',\n",
       "       'f2e87488529935faf3c8411e63259564',\n",
       "       '12b91a24a6af821a5912bc417ec43e8d',\n",
       "       '3969aa2ff2f266ea82a886e0c084abc7',\n",
       "       'a936cd07895efded15c36140a62a78b7',\n",
       "       '94db062fa1178ab999bdd777dafec65f',\n",
       "       '17204fa7e500e3ea4efb3e0f801669aa',\n",
       "       '8c581022a9e77237c66336f8f17fa14d',\n",
       "       'ba82cb585bc2be6819241b2d1c900b88',\n",
       "       '44736fb7de33f8ea3c34c0500e6932c3',\n",
       "       '9ab3ec6493d605fa0effea43b1141f6f',\n",
       "       'ae7c6a59583fd40eac4d3855316f0ac2',\n",
       "       '468e656e59a57f84bf2bf37e480aa832',\n",
       "       '0c1091b0e6fcebff367ba688403f5c84',\n",
       "       '9daa743d34f2bf6917a2ce0c1716784f',\n",
       "       'babf967aeb47132007ac2dd76c204d49',\n",
       "       '77a2ec69c31af35bad629aeef64322d9',\n",
       "       '77a807f61bff3244a81c0d8f0ea0c508',\n",
       "       '1014a43e89b749c41b1385d09539b94d',\n",
       "       '973160cfdb58538169ea1c24f87561e3',\n",
       "       '2279c1b4b458c7060354f77cef33b24e',\n",
       "       '53f240454714b223c7aaa73437c24e8a',\n",
       "       'cd60972dd4dc63f11aff82ac42c8ba98',\n",
       "       'eef47ed8f4645412e7130f334aa53ca7',\n",
       "       'd9039c43983f6e564b1482b273bd7b01',\n",
       "       '90cdd68b0a4ed66ef71d66e55d3fbd8a',\n",
       "       'c0999793234144881eeec9cecb1c4b8f',\n",
       "       '95f23db28b91c719b620588a76baf84a',\n",
       "       'efb12e02cfab31245ab533767b69aeb5',\n",
       "       '7c5e4fc025b70c6540d6b0e06716b9dd',\n",
       "       '5d460ddca5fd522ceca75feccf5ef81d',\n",
       "       'e9920062e07ee893c10e38d0259665b0',\n",
       "       'c1f6424c975f2dab361f8e4f5a1095f1',\n",
       "       'e6da894cf7ae0e99fe17a29c72e387c9',\n",
       "       '908e2fdb7d9ac7d0d9220b60f1292c3a',\n",
       "       '539c94e309b65a4089e490808c35c154',\n",
       "       '449b6bcfbef98f7cd8fdb1acfac20097',\n",
       "       '1f83758a257b3ded8e8cce14b14bf533',\n",
       "       'd0322634dbf7c6e01bc2b58f91bb0d90',\n",
       "       'cd078a92365061d97bec61e145a713b2',\n",
       "       'dc87fe2210e71c6fb37a56ed032754bf',\n",
       "       '6e88a2a196e4107504206effc554c922',\n",
       "       '79043887df9d409475245ca4fc3bfabe',\n",
       "       'd4da529f5295859bb5c4ef8abbb0a38f',\n",
       "       '4e0c2b0aee8d6e71d3ba9eb83ee09836',\n",
       "       '1d3f3acbd945bd0a122e0625f3959f89',\n",
       "       '60048dafd9977698423f6d9e45f0d4c2',\n",
       "       'c55f334138bd24e209d9c170545c7f62',\n",
       "       'cc53f401bf7b6f9d7f0cc42025e3cc65',\n",
       "       '8fcfffa4e06cfe09f55215ea1a5e5c84',\n",
       "       '617e27a9baf846838a0132bd8871e178',\n",
       "       'd82432ca41910a345ee9591c37280484',\n",
       "       '1729cc4d62ab0cec44dcfd6757d44d65',\n",
       "       'c8b10a317b766204f08e613cef4ce7a0',\n",
       "       '867bf3046143d15b9e618c8afba40025',\n",
       "       '4c4362be5604f9054c2d6d4f82f9d24e',\n",
       "       'b2d16e8bb0e9470fcb2ab15c07b9b4f1',\n",
       "       '293a5d2579bc2eb7b20736ae2395e9e5',\n",
       "       '3e0c28a1f4b9c11b809ff21dbb920b5c',\n",
       "       '05a5fa4dd06e3f64d73d88d7a6885a51',\n",
       "       'f2dc994e73107776552b84345c7b2b8d'], dtype=object)"
      ]
     },
     "execution_count": 25,
     "metadata": {},
     "output_type": "execute_result"
    }
   ],
   "source": [
    "df.loc[~df['features'].str.contains('\\['), 'features'].unique()"
   ]
  },
  {
   "cell_type": "code",
   "execution_count": 26,
   "metadata": {},
   "outputs": [],
   "source": [
    "df.loc[~df['features'].str.contains('\\['), 'features'] = '[]'"
   ]
  },
  {
   "cell_type": "markdown",
   "metadata": {},
   "source": [
    "# 目标是\n",
    "```\n",
    "[['Doorman', 'Elevator', 'Fitness Center', 'Cats Allowed', 'Dogs Allowed'],\n",
    " ['Hardwood Floors', 'No Fee'],\n",
    " ..]]\n",
    "\n",
    "--> \n",
    "\n",
    "['Doorman', 'Elevator', 'Fitness Center', 'Cats Allowed', 'Dogs Allowed', 'Hardwood Floors', 'No Fee']\n",
    "```"
   ]
  },
  {
   "cell_type": "code",
   "execution_count": 27,
   "metadata": {},
   "outputs": [
    {
     "data": {
      "text/plain": [
       "0                                                       []\n",
       "1        [Doorman, Elevator, Fitness Center, Cats Allow...\n",
       "2        [Laundry In Building, Dishwasher, Hardwood Flo...\n",
       "3                                [Hardwood Floors, No Fee]\n",
       "4                                                [Pre-War]\n",
       "                               ...                        \n",
       "53670    [Elevator, Laundry in Building, Laundry in Uni...\n",
       "53671    [Common Outdoor Space, Cats Allowed, Dogs Allo...\n",
       "53672    [Doorman, Elevator, Pre-War, Dogs Allowed, Cat...\n",
       "53673    [Doorman, Elevator, Pre-War, Dogs Allowed, Cat...\n",
       "53674                                    [Hardwood Floors]\n",
       "Name: features, Length: 53675, dtype: object"
      ]
     },
     "execution_count": 27,
     "metadata": {},
     "output_type": "execute_result"
    }
   ],
   "source": [
    "feature_nested_list = df['features'].apply(ast.literal_eval)\n",
    "feature_nested_list"
   ]
  },
  {
   "cell_type": "code",
   "execution_count": 28,
   "metadata": {},
   "outputs": [
    {
     "data": {
      "text/plain": [
       "0                    NaN\n",
       "1                Doorman\n",
       "1               Elevator\n",
       "1         Fitness Center\n",
       "1           Cats Allowed\n",
       "              ...       \n",
       "53673           Elevator\n",
       "53673            Pre-War\n",
       "53673       Dogs Allowed\n",
       "53673       Cats Allowed\n",
       "53674    Hardwood Floors\n",
       "Name: features, Length: 274245, dtype: object"
      ]
     },
     "execution_count": 28,
     "metadata": {},
     "output_type": "execute_result"
    }
   ],
   "source": [
    "feature_nested_list.explode()"
   ]
  },
  {
   "cell_type": "code",
   "execution_count": 29,
   "metadata": {},
   "outputs": [
    {
     "data": {
      "text/plain": [
       "1                Doorman\n",
       "1               Elevator\n",
       "1         Fitness Center\n",
       "1           Cats Allowed\n",
       "1           Dogs Allowed\n",
       "              ...       \n",
       "53673           Elevator\n",
       "53673            Pre-War\n",
       "53673       Dogs Allowed\n",
       "53673       Cats Allowed\n",
       "53674    Hardwood Floors\n",
       "Name: features, Length: 266310, dtype: object"
      ]
     },
     "execution_count": 29,
     "metadata": {},
     "output_type": "execute_result"
    }
   ],
   "source": [
    "feature_unnested = feature_nested_list.explode().dropna()\n",
    "feature_unnested"
   ]
  },
  {
   "cell_type": "code",
   "execution_count": 30,
   "metadata": {},
   "outputs": [
    {
     "name": "stdout",
     "output_type": "stream",
     "text": [
      "Total number of apartment is  53675\n",
      "Total number features is 266310\n"
     ]
    }
   ],
   "source": [
    "print('Total number of apartment is ', len(df['features']))\n",
    "print('Total number features is', len(feature_unnested))"
   ]
  },
  {
   "cell_type": "code",
   "execution_count": 31,
   "metadata": {},
   "outputs": [
    {
     "data": {
      "text/plain": [
       "Elevator               25759\n",
       "Hardwood Floors        23445\n",
       "Cats Allowed           23271\n",
       "Dogs Allowed           21786\n",
       "Doorman                20793\n",
       "Dishwasher             20353\n",
       "No Fee                 17871\n",
       "Laundry in Building    16279\n",
       "Fitness Center         13182\n",
       "Pre-War                 9120\n",
       "Name: features, dtype: int64"
      ]
     },
     "execution_count": 31,
     "metadata": {},
     "output_type": "execute_result"
    }
   ],
   "source": [
    "top_features = feature_unnested.value_counts()[:10]\n",
    "top_features"
   ]
  },
  {
   "cell_type": "code",
   "execution_count": 32,
   "metadata": {},
   "outputs": [],
   "source": [
    "top_feature_list = list(top_features.index)"
   ]
  },
  {
   "cell_type": "code",
   "execution_count": 33,
   "metadata": {
    "scrolled": true
   },
   "outputs": [
    {
     "data": {
      "text/plain": [
       "['Elevator',\n",
       " 'Hardwood Floors',\n",
       " 'Cats Allowed',\n",
       " 'Dogs Allowed',\n",
       " 'Doorman',\n",
       " 'Dishwasher',\n",
       " 'No Fee',\n",
       " 'Laundry in Building',\n",
       " 'Fitness Center',\n",
       " 'Pre-War']"
      ]
     },
     "execution_count": 33,
     "metadata": {},
     "output_type": "execute_result"
    }
   ],
   "source": [
    "top_feature_list"
   ]
  },
  {
   "cell_type": "markdown",
   "metadata": {},
   "source": [
    "```\n",
    "dict {'Elevator': [0, 0, 1, 1, ...],\n",
    "      'Hardwood Floors': [1, 0, ...]}\n",
    "```"
   ]
  },
  {
   "cell_type": "code",
   "execution_count": 34,
   "metadata": {},
   "outputs": [],
   "source": [
    "from collections import defaultdict\n",
    "feature_map = defaultdict(list)\n",
    "\n",
    "for feature_nested in feature_nested_list:\n",
    "    for feature_selected in top_feature_list:\n",
    "        if feature_selected in feature_nested:\n",
    "            feature_map[feature_selected].append(1)\n",
    "        else:\n",
    "            feature_map[feature_selected].append(0)"
   ]
  },
  {
   "cell_type": "code",
   "execution_count": 35,
   "metadata": {},
   "outputs": [
    {
     "data": {
      "text/plain": [
       "0                                                       []\n",
       "1        ['Doorman', 'Elevator', 'Fitness Center', 'Cat...\n",
       "2        ['Laundry In Building', 'Dishwasher', 'Hardwoo...\n",
       "3                            ['Hardwood Floors', 'No Fee']\n",
       "4                                              ['Pre-War']\n",
       "                               ...                        \n",
       "53670    ['Elevator', 'Laundry in Building', 'Laundry i...\n",
       "53671    ['Common Outdoor Space', 'Cats Allowed', 'Dogs...\n",
       "53672    ['Doorman', 'Elevator', 'Pre-War', 'Dogs Allow...\n",
       "53673    ['Doorman', 'Elevator', 'Pre-War', 'Dogs Allow...\n",
       "53674                                  ['Hardwood Floors']\n",
       "Name: features, Length: 53675, dtype: object"
      ]
     },
     "execution_count": 35,
     "metadata": {},
     "output_type": "execute_result"
    }
   ],
   "source": [
    "df['features']"
   ]
  },
  {
   "cell_type": "code",
   "execution_count": 36,
   "metadata": {},
   "outputs": [
    {
     "data": {
      "text/html": [
       "<div>\n",
       "<style scoped>\n",
       "    .dataframe tbody tr th:only-of-type {\n",
       "        vertical-align: middle;\n",
       "    }\n",
       "\n",
       "    .dataframe tbody tr th {\n",
       "        vertical-align: top;\n",
       "    }\n",
       "\n",
       "    .dataframe thead th {\n",
       "        text-align: right;\n",
       "    }\n",
       "</style>\n",
       "<table border=\"1\" class=\"dataframe\">\n",
       "  <thead>\n",
       "    <tr style=\"text-align: right;\">\n",
       "      <th></th>\n",
       "      <th>Elevator</th>\n",
       "      <th>Hardwood Floors</th>\n",
       "      <th>Cats Allowed</th>\n",
       "      <th>Dogs Allowed</th>\n",
       "      <th>Doorman</th>\n",
       "      <th>Dishwasher</th>\n",
       "      <th>No Fee</th>\n",
       "      <th>Laundry in Building</th>\n",
       "      <th>Fitness Center</th>\n",
       "      <th>Pre-War</th>\n",
       "    </tr>\n",
       "  </thead>\n",
       "  <tbody>\n",
       "    <tr>\n",
       "      <th>0</th>\n",
       "      <td>0</td>\n",
       "      <td>0</td>\n",
       "      <td>0</td>\n",
       "      <td>0</td>\n",
       "      <td>0</td>\n",
       "      <td>0</td>\n",
       "      <td>0</td>\n",
       "      <td>0</td>\n",
       "      <td>0</td>\n",
       "      <td>0</td>\n",
       "    </tr>\n",
       "    <tr>\n",
       "      <th>1</th>\n",
       "      <td>1</td>\n",
       "      <td>0</td>\n",
       "      <td>1</td>\n",
       "      <td>1</td>\n",
       "      <td>1</td>\n",
       "      <td>0</td>\n",
       "      <td>0</td>\n",
       "      <td>0</td>\n",
       "      <td>1</td>\n",
       "      <td>0</td>\n",
       "    </tr>\n",
       "    <tr>\n",
       "      <th>2</th>\n",
       "      <td>0</td>\n",
       "      <td>1</td>\n",
       "      <td>0</td>\n",
       "      <td>0</td>\n",
       "      <td>0</td>\n",
       "      <td>1</td>\n",
       "      <td>0</td>\n",
       "      <td>0</td>\n",
       "      <td>0</td>\n",
       "      <td>0</td>\n",
       "    </tr>\n",
       "    <tr>\n",
       "      <th>3</th>\n",
       "      <td>0</td>\n",
       "      <td>1</td>\n",
       "      <td>0</td>\n",
       "      <td>0</td>\n",
       "      <td>0</td>\n",
       "      <td>0</td>\n",
       "      <td>1</td>\n",
       "      <td>0</td>\n",
       "      <td>0</td>\n",
       "      <td>0</td>\n",
       "    </tr>\n",
       "    <tr>\n",
       "      <th>4</th>\n",
       "      <td>0</td>\n",
       "      <td>0</td>\n",
       "      <td>0</td>\n",
       "      <td>0</td>\n",
       "      <td>0</td>\n",
       "      <td>0</td>\n",
       "      <td>0</td>\n",
       "      <td>0</td>\n",
       "      <td>0</td>\n",
       "      <td>1</td>\n",
       "    </tr>\n",
       "    <tr>\n",
       "      <th>...</th>\n",
       "      <td>...</td>\n",
       "      <td>...</td>\n",
       "      <td>...</td>\n",
       "      <td>...</td>\n",
       "      <td>...</td>\n",
       "      <td>...</td>\n",
       "      <td>...</td>\n",
       "      <td>...</td>\n",
       "      <td>...</td>\n",
       "      <td>...</td>\n",
       "    </tr>\n",
       "    <tr>\n",
       "      <th>53670</th>\n",
       "      <td>1</td>\n",
       "      <td>1</td>\n",
       "      <td>0</td>\n",
       "      <td>0</td>\n",
       "      <td>0</td>\n",
       "      <td>1</td>\n",
       "      <td>1</td>\n",
       "      <td>1</td>\n",
       "      <td>0</td>\n",
       "      <td>0</td>\n",
       "    </tr>\n",
       "    <tr>\n",
       "      <th>53671</th>\n",
       "      <td>1</td>\n",
       "      <td>0</td>\n",
       "      <td>1</td>\n",
       "      <td>1</td>\n",
       "      <td>1</td>\n",
       "      <td>0</td>\n",
       "      <td>0</td>\n",
       "      <td>0</td>\n",
       "      <td>1</td>\n",
       "      <td>0</td>\n",
       "    </tr>\n",
       "    <tr>\n",
       "      <th>53672</th>\n",
       "      <td>1</td>\n",
       "      <td>0</td>\n",
       "      <td>1</td>\n",
       "      <td>1</td>\n",
       "      <td>1</td>\n",
       "      <td>0</td>\n",
       "      <td>0</td>\n",
       "      <td>0</td>\n",
       "      <td>0</td>\n",
       "      <td>1</td>\n",
       "    </tr>\n",
       "    <tr>\n",
       "      <th>53673</th>\n",
       "      <td>1</td>\n",
       "      <td>0</td>\n",
       "      <td>1</td>\n",
       "      <td>1</td>\n",
       "      <td>1</td>\n",
       "      <td>0</td>\n",
       "      <td>0</td>\n",
       "      <td>0</td>\n",
       "      <td>0</td>\n",
       "      <td>1</td>\n",
       "    </tr>\n",
       "    <tr>\n",
       "      <th>53674</th>\n",
       "      <td>0</td>\n",
       "      <td>1</td>\n",
       "      <td>0</td>\n",
       "      <td>0</td>\n",
       "      <td>0</td>\n",
       "      <td>0</td>\n",
       "      <td>0</td>\n",
       "      <td>0</td>\n",
       "      <td>0</td>\n",
       "      <td>0</td>\n",
       "    </tr>\n",
       "  </tbody>\n",
       "</table>\n",
       "<p>53675 rows × 10 columns</p>\n",
       "</div>"
      ],
      "text/plain": [
       "       Elevator  Hardwood Floors  Cats Allowed  Dogs Allowed  Doorman  \\\n",
       "0             0                0             0             0        0   \n",
       "1             1                0             1             1        1   \n",
       "2             0                1             0             0        0   \n",
       "3             0                1             0             0        0   \n",
       "4             0                0             0             0        0   \n",
       "...         ...              ...           ...           ...      ...   \n",
       "53670         1                1             0             0        0   \n",
       "53671         1                0             1             1        1   \n",
       "53672         1                0             1             1        1   \n",
       "53673         1                0             1             1        1   \n",
       "53674         0                1             0             0        0   \n",
       "\n",
       "       Dishwasher  No Fee  Laundry in Building  Fitness Center  Pre-War  \n",
       "0               0       0                    0               0        0  \n",
       "1               0       0                    0               1        0  \n",
       "2               1       0                    0               0        0  \n",
       "3               0       1                    0               0        0  \n",
       "4               0       0                    0               0        1  \n",
       "...           ...     ...                  ...             ...      ...  \n",
       "53670           1       1                    1               0        0  \n",
       "53671           0       0                    0               1        0  \n",
       "53672           0       0                    0               0        1  \n",
       "53673           0       0                    0               0        1  \n",
       "53674           0       0                    0               0        0  \n",
       "\n",
       "[53675 rows x 10 columns]"
      ]
     },
     "execution_count": 36,
     "metadata": {},
     "output_type": "execute_result"
    }
   ],
   "source": [
    "feature_df = pd.DataFrame.from_dict(feature_map)\n",
    "feature_df"
   ]
  },
  {
   "cell_type": "code",
   "execution_count": 37,
   "metadata": {},
   "outputs": [
    {
     "data": {
      "text/html": [
       "<div>\n",
       "<style scoped>\n",
       "    .dataframe tbody tr th:only-of-type {\n",
       "        vertical-align: middle;\n",
       "    }\n",
       "\n",
       "    .dataframe tbody tr th {\n",
       "        vertical-align: top;\n",
       "    }\n",
       "\n",
       "    .dataframe thead th {\n",
       "        text-align: right;\n",
       "    }\n",
       "</style>\n",
       "<table border=\"1\" class=\"dataframe\">\n",
       "  <thead>\n",
       "    <tr style=\"text-align: right;\">\n",
       "      <th></th>\n",
       "      <th>bathrooms</th>\n",
       "      <th>bedrooms</th>\n",
       "      <th>dscpt_polarity</th>\n",
       "      <th>dscpt_subjectivity</th>\n",
       "      <th>Elevator</th>\n",
       "      <th>Hardwood Floors</th>\n",
       "      <th>Cats Allowed</th>\n",
       "      <th>Dogs Allowed</th>\n",
       "      <th>Doorman</th>\n",
       "      <th>Dishwasher</th>\n",
       "      <th>No Fee</th>\n",
       "      <th>Laundry in Building</th>\n",
       "      <th>Fitness Center</th>\n",
       "      <th>Pre-War</th>\n",
       "    </tr>\n",
       "  </thead>\n",
       "  <tbody>\n",
       "    <tr>\n",
       "      <th>0</th>\n",
       "      <td>1.5</td>\n",
       "      <td>3.0</td>\n",
       "      <td>0.136364</td>\n",
       "      <td>0.454545</td>\n",
       "      <td>0</td>\n",
       "      <td>0</td>\n",
       "      <td>0</td>\n",
       "      <td>0</td>\n",
       "      <td>0</td>\n",
       "      <td>0</td>\n",
       "      <td>0</td>\n",
       "      <td>0</td>\n",
       "      <td>0</td>\n",
       "      <td>0</td>\n",
       "    </tr>\n",
       "    <tr>\n",
       "      <th>1</th>\n",
       "      <td>1.0</td>\n",
       "      <td>2.0</td>\n",
       "      <td>0.000000</td>\n",
       "      <td>0.000000</td>\n",
       "      <td>1</td>\n",
       "      <td>0</td>\n",
       "      <td>1</td>\n",
       "      <td>1</td>\n",
       "      <td>1</td>\n",
       "      <td>0</td>\n",
       "      <td>0</td>\n",
       "      <td>0</td>\n",
       "      <td>1</td>\n",
       "      <td>0</td>\n",
       "    </tr>\n",
       "    <tr>\n",
       "      <th>2</th>\n",
       "      <td>1.0</td>\n",
       "      <td>1.0</td>\n",
       "      <td>0.616667</td>\n",
       "      <td>0.666667</td>\n",
       "      <td>0</td>\n",
       "      <td>1</td>\n",
       "      <td>0</td>\n",
       "      <td>0</td>\n",
       "      <td>0</td>\n",
       "      <td>1</td>\n",
       "      <td>0</td>\n",
       "      <td>0</td>\n",
       "      <td>0</td>\n",
       "      <td>0</td>\n",
       "    </tr>\n",
       "    <tr>\n",
       "      <th>3</th>\n",
       "      <td>1.0</td>\n",
       "      <td>1.0</td>\n",
       "      <td>0.500000</td>\n",
       "      <td>1.000000</td>\n",
       "      <td>0</td>\n",
       "      <td>1</td>\n",
       "      <td>0</td>\n",
       "      <td>0</td>\n",
       "      <td>0</td>\n",
       "      <td>0</td>\n",
       "      <td>1</td>\n",
       "      <td>0</td>\n",
       "      <td>0</td>\n",
       "      <td>0</td>\n",
       "    </tr>\n",
       "    <tr>\n",
       "      <th>4</th>\n",
       "      <td>1.0</td>\n",
       "      <td>4.0</td>\n",
       "      <td>0.850000</td>\n",
       "      <td>1.000000</td>\n",
       "      <td>0</td>\n",
       "      <td>0</td>\n",
       "      <td>0</td>\n",
       "      <td>0</td>\n",
       "      <td>0</td>\n",
       "      <td>0</td>\n",
       "      <td>0</td>\n",
       "      <td>0</td>\n",
       "      <td>0</td>\n",
       "      <td>1</td>\n",
       "    </tr>\n",
       "    <tr>\n",
       "      <th>...</th>\n",
       "      <td>...</td>\n",
       "      <td>...</td>\n",
       "      <td>...</td>\n",
       "      <td>...</td>\n",
       "      <td>...</td>\n",
       "      <td>...</td>\n",
       "      <td>...</td>\n",
       "      <td>...</td>\n",
       "      <td>...</td>\n",
       "      <td>...</td>\n",
       "      <td>...</td>\n",
       "      <td>...</td>\n",
       "      <td>...</td>\n",
       "      <td>...</td>\n",
       "    </tr>\n",
       "    <tr>\n",
       "      <th>53670</th>\n",
       "      <td>1.0</td>\n",
       "      <td>2.0</td>\n",
       "      <td>0.175000</td>\n",
       "      <td>0.775000</td>\n",
       "      <td>1</td>\n",
       "      <td>1</td>\n",
       "      <td>0</td>\n",
       "      <td>0</td>\n",
       "      <td>0</td>\n",
       "      <td>1</td>\n",
       "      <td>1</td>\n",
       "      <td>1</td>\n",
       "      <td>0</td>\n",
       "      <td>0</td>\n",
       "    </tr>\n",
       "    <tr>\n",
       "      <th>53671</th>\n",
       "      <td>1.0</td>\n",
       "      <td>1.0</td>\n",
       "      <td>0.160000</td>\n",
       "      <td>0.540000</td>\n",
       "      <td>1</td>\n",
       "      <td>0</td>\n",
       "      <td>1</td>\n",
       "      <td>1</td>\n",
       "      <td>1</td>\n",
       "      <td>0</td>\n",
       "      <td>0</td>\n",
       "      <td>0</td>\n",
       "      <td>1</td>\n",
       "      <td>0</td>\n",
       "    </tr>\n",
       "    <tr>\n",
       "      <th>53672</th>\n",
       "      <td>1.0</td>\n",
       "      <td>1.0</td>\n",
       "      <td>0.214286</td>\n",
       "      <td>0.428571</td>\n",
       "      <td>1</td>\n",
       "      <td>0</td>\n",
       "      <td>1</td>\n",
       "      <td>1</td>\n",
       "      <td>1</td>\n",
       "      <td>0</td>\n",
       "      <td>0</td>\n",
       "      <td>0</td>\n",
       "      <td>0</td>\n",
       "      <td>1</td>\n",
       "    </tr>\n",
       "    <tr>\n",
       "      <th>53673</th>\n",
       "      <td>1.0</td>\n",
       "      <td>0.0</td>\n",
       "      <td>0.500000</td>\n",
       "      <td>1.000000</td>\n",
       "      <td>1</td>\n",
       "      <td>0</td>\n",
       "      <td>1</td>\n",
       "      <td>1</td>\n",
       "      <td>1</td>\n",
       "      <td>0</td>\n",
       "      <td>0</td>\n",
       "      <td>0</td>\n",
       "      <td>0</td>\n",
       "      <td>1</td>\n",
       "    </tr>\n",
       "    <tr>\n",
       "      <th>53674</th>\n",
       "      <td>1.0</td>\n",
       "      <td>2.0</td>\n",
       "      <td>0.000000</td>\n",
       "      <td>0.750000</td>\n",
       "      <td>0</td>\n",
       "      <td>1</td>\n",
       "      <td>0</td>\n",
       "      <td>0</td>\n",
       "      <td>0</td>\n",
       "      <td>0</td>\n",
       "      <td>0</td>\n",
       "      <td>0</td>\n",
       "      <td>0</td>\n",
       "      <td>0</td>\n",
       "    </tr>\n",
       "  </tbody>\n",
       "</table>\n",
       "<p>53675 rows × 14 columns</p>\n",
       "</div>"
      ],
      "text/plain": [
       "       bathrooms  bedrooms  dscpt_polarity  dscpt_subjectivity  Elevator  \\\n",
       "0            1.5       3.0        0.136364            0.454545         0   \n",
       "1            1.0       2.0        0.000000            0.000000         1   \n",
       "2            1.0       1.0        0.616667            0.666667         0   \n",
       "3            1.0       1.0        0.500000            1.000000         0   \n",
       "4            1.0       4.0        0.850000            1.000000         0   \n",
       "...          ...       ...             ...                 ...       ...   \n",
       "53670        1.0       2.0        0.175000            0.775000         1   \n",
       "53671        1.0       1.0        0.160000            0.540000         1   \n",
       "53672        1.0       1.0        0.214286            0.428571         1   \n",
       "53673        1.0       0.0        0.500000            1.000000         1   \n",
       "53674        1.0       2.0        0.000000            0.750000         0   \n",
       "\n",
       "       Hardwood Floors  Cats Allowed  Dogs Allowed  Doorman  Dishwasher  \\\n",
       "0                    0             0             0        0           0   \n",
       "1                    0             1             1        1           0   \n",
       "2                    1             0             0        0           1   \n",
       "3                    1             0             0        0           0   \n",
       "4                    0             0             0        0           0   \n",
       "...                ...           ...           ...      ...         ...   \n",
       "53670                1             0             0        0           1   \n",
       "53671                0             1             1        1           0   \n",
       "53672                0             1             1        1           0   \n",
       "53673                0             1             1        1           0   \n",
       "53674                1             0             0        0           0   \n",
       "\n",
       "       No Fee  Laundry in Building  Fitness Center  Pre-War  \n",
       "0           0                    0               0        0  \n",
       "1           0                    0               1        0  \n",
       "2           0                    0               0        0  \n",
       "3           1                    0               0        0  \n",
       "4           0                    0               0        1  \n",
       "...       ...                  ...             ...      ...  \n",
       "53670       1                    1               0        0  \n",
       "53671       0                    0               1        0  \n",
       "53672       0                    0               0        1  \n",
       "53673       0                    0               0        1  \n",
       "53674       0                    0               0        0  \n",
       "\n",
       "[53675 rows x 14 columns]"
      ]
     },
     "execution_count": 37,
     "metadata": {},
     "output_type": "execute_result"
    }
   ],
   "source": [
    "df_final = pd.concat([df_final, feature_df], axis=1)\n",
    "df_final"
   ]
  },
  {
   "cell_type": "markdown",
   "metadata": {},
   "source": [
    "## 1.5 deal with photos"
   ]
  },
  {
   "cell_type": "code",
   "execution_count": 38,
   "metadata": {},
   "outputs": [
    {
     "data": {
      "text/plain": [
       "\"['https://photos.renthop.com/2/7211212_1ed4542ec81621d70d1061aa833e669c.jpg', 'https://photos.renthop.com/2/7211212_7dfc41dced69245065df83d08eed4a00.jpg', 'https://photos.renthop.com/2/7211212_c17853c4b869af6f53af08b0f5820b4c.jpg', 'https://photos.renthop.com/2/7211212_787ad8ea0c089792e7453e2121f8ac89.jpg', 'https://photos.renthop.com/2/7211212_2e88b0d293ee333c804c2f00536eee49.jpg']\""
      ]
     },
     "execution_count": 38,
     "metadata": {},
     "output_type": "execute_result"
    }
   ],
   "source": [
    "df['photos'][0]"
   ]
  },
  {
   "cell_type": "code",
   "execution_count": 39,
   "metadata": {},
   "outputs": [
    {
     "data": {
      "text/html": [
       "<div>\n",
       "<style scoped>\n",
       "    .dataframe tbody tr th:only-of-type {\n",
       "        vertical-align: middle;\n",
       "    }\n",
       "\n",
       "    .dataframe tbody tr th {\n",
       "        vertical-align: top;\n",
       "    }\n",
       "\n",
       "    .dataframe thead th {\n",
       "        text-align: right;\n",
       "    }\n",
       "</style>\n",
       "<table border=\"1\" class=\"dataframe\">\n",
       "  <thead>\n",
       "    <tr style=\"text-align: right;\">\n",
       "      <th></th>\n",
       "      <th>bathrooms</th>\n",
       "      <th>bedrooms</th>\n",
       "      <th>building_id</th>\n",
       "      <th>created</th>\n",
       "      <th>description</th>\n",
       "      <th>display_address</th>\n",
       "      <th>features</th>\n",
       "      <th>latitude</th>\n",
       "      <th>listing_id</th>\n",
       "      <th>longitude</th>\n",
       "      <th>manager_id</th>\n",
       "      <th>photos</th>\n",
       "      <th>price</th>\n",
       "      <th>street_address</th>\n",
       "      <th>is_deal</th>\n",
       "      <th>gender</th>\n",
       "      <th>expected_price</th>\n",
       "      <th>followup</th>\n",
       "      <th>dscpt_polarity</th>\n",
       "      <th>dscpt_subjectivity</th>\n",
       "    </tr>\n",
       "  </thead>\n",
       "  <tbody>\n",
       "  </tbody>\n",
       "</table>\n",
       "</div>"
      ],
      "text/plain": [
       "Empty DataFrame\n",
       "Columns: [bathrooms, bedrooms, building_id, created, description, display_address, features, latitude, listing_id, longitude, manager_id, photos, price, street_address, is_deal, gender, expected_price, followup, dscpt_polarity, dscpt_subjectivity]\n",
       "Index: []"
      ]
     },
     "execution_count": 39,
     "metadata": {},
     "output_type": "execute_result"
    }
   ],
   "source": [
    "df['photos'] = df['photos'].fillna('[]')\n",
    "df[~df['photos'].str.contains('\\[')]"
   ]
  },
  {
   "cell_type": "code",
   "execution_count": 40,
   "metadata": {},
   "outputs": [
    {
     "data": {
      "text/plain": [
       "0    [https://photos.renthop.com/2/7211212_1ed4542e...\n",
       "1    [https://photos.renthop.com/2/7150865_be3306c5...\n",
       "Name: photos, dtype: object"
      ]
     },
     "execution_count": 40,
     "metadata": {},
     "output_type": "execute_result"
    }
   ],
   "source": [
    "photo_nested_list = df['photos'].apply(ast.literal_eval)\n",
    "photo_nested_list[:2]"
   ]
  },
  {
   "cell_type": "code",
   "execution_count": 41,
   "metadata": {},
   "outputs": [
    {
     "data": {
      "text/plain": [
       "0     5\n",
       "1    11\n",
       "Name: photos, dtype: int64"
      ]
     },
     "execution_count": 41,
     "metadata": {},
     "output_type": "execute_result"
    }
   ],
   "source": [
    "num_of_photos = photo_nested_list.apply(len)\n",
    "num_of_photos[:2]"
   ]
  },
  {
   "cell_type": "code",
   "execution_count": 42,
   "metadata": {},
   "outputs": [
    {
     "data": {
      "text/html": [
       "<div>\n",
       "<style scoped>\n",
       "    .dataframe tbody tr th:only-of-type {\n",
       "        vertical-align: middle;\n",
       "    }\n",
       "\n",
       "    .dataframe tbody tr th {\n",
       "        vertical-align: top;\n",
       "    }\n",
       "\n",
       "    .dataframe thead th {\n",
       "        text-align: right;\n",
       "    }\n",
       "</style>\n",
       "<table border=\"1\" class=\"dataframe\">\n",
       "  <thead>\n",
       "    <tr style=\"text-align: right;\">\n",
       "      <th></th>\n",
       "      <th>num_of_photos</th>\n",
       "    </tr>\n",
       "  </thead>\n",
       "  <tbody>\n",
       "    <tr>\n",
       "      <th>0</th>\n",
       "      <td>5</td>\n",
       "    </tr>\n",
       "    <tr>\n",
       "      <th>1</th>\n",
       "      <td>11</td>\n",
       "    </tr>\n",
       "    <tr>\n",
       "      <th>2</th>\n",
       "      <td>8</td>\n",
       "    </tr>\n",
       "    <tr>\n",
       "      <th>3</th>\n",
       "      <td>3</td>\n",
       "    </tr>\n",
       "    <tr>\n",
       "      <th>4</th>\n",
       "      <td>3</td>\n",
       "    </tr>\n",
       "  </tbody>\n",
       "</table>\n",
       "</div>"
      ],
      "text/plain": [
       "   num_of_photos\n",
       "0              5\n",
       "1             11\n",
       "2              8\n",
       "3              3\n",
       "4              3"
      ]
     },
     "execution_count": 42,
     "metadata": {},
     "output_type": "execute_result"
    }
   ],
   "source": [
    "df_final['num_of_photos'] = num_of_photos\n",
    "df_final[['num_of_photos']].head()"
   ]
  },
  {
   "cell_type": "markdown",
   "metadata": {},
   "source": [
    "# 1.6 deal with gender"
   ]
  },
  {
   "cell_type": "code",
   "execution_count": 43,
   "metadata": {},
   "outputs": [
    {
     "data": {
      "text/html": [
       "<div>\n",
       "<style scoped>\n",
       "    .dataframe tbody tr th:only-of-type {\n",
       "        vertical-align: middle;\n",
       "    }\n",
       "\n",
       "    .dataframe tbody tr th {\n",
       "        vertical-align: top;\n",
       "    }\n",
       "\n",
       "    .dataframe thead th {\n",
       "        text-align: right;\n",
       "    }\n",
       "</style>\n",
       "<table border=\"1\" class=\"dataframe\">\n",
       "  <thead>\n",
       "    <tr style=\"text-align: right;\">\n",
       "      <th></th>\n",
       "      <th>male</th>\n",
       "    </tr>\n",
       "  </thead>\n",
       "  <tbody>\n",
       "    <tr>\n",
       "      <th>0</th>\n",
       "      <td>0</td>\n",
       "    </tr>\n",
       "    <tr>\n",
       "      <th>1</th>\n",
       "      <td>1</td>\n",
       "    </tr>\n",
       "    <tr>\n",
       "      <th>2</th>\n",
       "      <td>1</td>\n",
       "    </tr>\n",
       "    <tr>\n",
       "      <th>3</th>\n",
       "      <td>0</td>\n",
       "    </tr>\n",
       "    <tr>\n",
       "      <th>4</th>\n",
       "      <td>0</td>\n",
       "    </tr>\n",
       "    <tr>\n",
       "      <th>...</th>\n",
       "      <td>...</td>\n",
       "    </tr>\n",
       "    <tr>\n",
       "      <th>53670</th>\n",
       "      <td>1</td>\n",
       "    </tr>\n",
       "    <tr>\n",
       "      <th>53671</th>\n",
       "      <td>0</td>\n",
       "    </tr>\n",
       "    <tr>\n",
       "      <th>53672</th>\n",
       "      <td>0</td>\n",
       "    </tr>\n",
       "    <tr>\n",
       "      <th>53673</th>\n",
       "      <td>0</td>\n",
       "    </tr>\n",
       "    <tr>\n",
       "      <th>53674</th>\n",
       "      <td>0</td>\n",
       "    </tr>\n",
       "  </tbody>\n",
       "</table>\n",
       "<p>53675 rows × 1 columns</p>\n",
       "</div>"
      ],
      "text/plain": [
       "       male\n",
       "0         0\n",
       "1         1\n",
       "2         1\n",
       "3         0\n",
       "4         0\n",
       "...     ...\n",
       "53670     1\n",
       "53671     0\n",
       "53672     0\n",
       "53673     0\n",
       "53674     0\n",
       "\n",
       "[53675 rows x 1 columns]"
      ]
     },
     "execution_count": 43,
     "metadata": {},
     "output_type": "execute_result"
    }
   ],
   "source": [
    "pd.get_dummies(df['gender'], drop_first=True)"
   ]
  },
  {
   "cell_type": "code",
   "execution_count": 44,
   "metadata": {},
   "outputs": [],
   "source": [
    "df_final['gender'] = pd.get_dummies(df['gender'], drop_first=True)"
   ]
  },
  {
   "cell_type": "markdown",
   "metadata": {},
   "source": [
    "# 1.7 other features"
   ]
  },
  {
   "cell_type": "code",
   "execution_count": 57,
   "metadata": {
    "scrolled": true
   },
   "outputs": [],
   "source": [
    "df_final.to_csv('final.csv')"
   ]
  },
  {
   "cell_type": "code",
   "execution_count": 46,
   "metadata": {},
   "outputs": [],
   "source": [
    "labels = df['is_deal']"
   ]
  },
  {
   "cell_type": "code",
   "execution_count": 47,
   "metadata": {},
   "outputs": [
    {
     "name": "stdout",
     "output_type": "stream",
     "text": [
      "41110\n",
      "12565\n"
     ]
    }
   ],
   "source": [
    "print(sum(labels == 0))\n",
    "print(sum(labels == 1))"
   ]
  },
  {
   "cell_type": "markdown",
   "metadata": {},
   "source": [
    "# 2. 数据分割和均一化"
   ]
  },
  {
   "cell_type": "markdown",
   "metadata": {},
   "source": [
    "## 2.1 均一化"
   ]
  },
  {
   "cell_type": "code",
   "execution_count": 48,
   "metadata": {},
   "outputs": [
    {
     "name": "stdout",
     "output_type": "stream",
     "text": [
      "<class 'pandas.core.frame.DataFrame'>\n",
      "RangeIndex: 53675 entries, 0 to 53674\n",
      "Data columns (total 19 columns):\n",
      " #   Column               Non-Null Count  Dtype  \n",
      "---  ------               --------------  -----  \n",
      " 0   bathrooms            49352 non-null  float64\n",
      " 1   bedrooms             49352 non-null  float64\n",
      " 2   dscpt_polarity       53675 non-null  float64\n",
      " 3   dscpt_subjectivity   53675 non-null  float64\n",
      " 4   Elevator             53675 non-null  int64  \n",
      " 5   Hardwood Floors      53675 non-null  int64  \n",
      " 6   Cats Allowed         53675 non-null  int64  \n",
      " 7   Dogs Allowed         53675 non-null  int64  \n",
      " 8   Doorman              53675 non-null  int64  \n",
      " 9   Dishwasher           53675 non-null  int64  \n",
      " 10  No Fee               53675 non-null  int64  \n",
      " 11  Laundry in Building  53675 non-null  int64  \n",
      " 12  Fitness Center       53675 non-null  int64  \n",
      " 13  Pre-War              53675 non-null  int64  \n",
      " 14  num_of_photos        53675 non-null  int64  \n",
      " 15  gender               53675 non-null  uint8  \n",
      " 16  price                48755 non-null  float64\n",
      " 17  expected_price       48755 non-null  float64\n",
      " 18  followup             26872 non-null  float64\n",
      "dtypes: float64(7), int64(11), uint8(1)\n",
      "memory usage: 7.4 MB\n"
     ]
    }
   ],
   "source": [
    "df_final.info()"
   ]
  },
  {
   "cell_type": "code",
   "execution_count": 107,
   "metadata": {},
   "outputs": [
    {
     "data": {
      "text/html": [
       "<div>\n",
       "<style scoped>\n",
       "    .dataframe tbody tr th:only-of-type {\n",
       "        vertical-align: middle;\n",
       "    }\n",
       "\n",
       "    .dataframe tbody tr th {\n",
       "        vertical-align: top;\n",
       "    }\n",
       "\n",
       "    .dataframe thead th {\n",
       "        text-align: right;\n",
       "    }\n",
       "</style>\n",
       "<table border=\"1\" class=\"dataframe\">\n",
       "  <thead>\n",
       "    <tr style=\"text-align: right;\">\n",
       "      <th></th>\n",
       "      <th>num_of_photos</th>\n",
       "      <th>price</th>\n",
       "      <th>expected_price</th>\n",
       "      <th>followup</th>\n",
       "    </tr>\n",
       "  </thead>\n",
       "  <tbody>\n",
       "    <tr>\n",
       "      <th>0</th>\n",
       "      <td>5</td>\n",
       "      <td>3000.0</td>\n",
       "      <td>2700.0</td>\n",
       "      <td>13.0</td>\n",
       "    </tr>\n",
       "    <tr>\n",
       "      <th>1</th>\n",
       "      <td>11</td>\n",
       "      <td>5465.0</td>\n",
       "      <td>5200.0</td>\n",
       "      <td>NaN</td>\n",
       "    </tr>\n",
       "    <tr>\n",
       "      <th>2</th>\n",
       "      <td>8</td>\n",
       "      <td>2850.0</td>\n",
       "      <td>2900.0</td>\n",
       "      <td>NaN</td>\n",
       "    </tr>\n",
       "    <tr>\n",
       "      <th>3</th>\n",
       "      <td>3</td>\n",
       "      <td>3275.0</td>\n",
       "      <td>3500.0</td>\n",
       "      <td>NaN</td>\n",
       "    </tr>\n",
       "    <tr>\n",
       "      <th>4</th>\n",
       "      <td>3</td>\n",
       "      <td>3350.0</td>\n",
       "      <td>3200.0</td>\n",
       "      <td>0.0</td>\n",
       "    </tr>\n",
       "  </tbody>\n",
       "</table>\n",
       "</div>"
      ],
      "text/plain": [
       "   num_of_photos   price  expected_price  followup\n",
       "0              5  3000.0          2700.0      13.0\n",
       "1             11  5465.0          5200.0       NaN\n",
       "2              8  2850.0          2900.0       NaN\n",
       "3              3  3275.0          3500.0       NaN\n",
       "4              3  3350.0          3200.0       0.0"
      ]
     },
     "execution_count": 107,
     "metadata": {},
     "output_type": "execute_result"
    }
   ],
   "source": [
    "features_standard = ['num_of_photos', 'price', 'expected_price', 'followup']\n",
    "df_standard = df_final[features_standard]\n",
    "df_standard.head()"
   ]
  },
  {
   "cell_type": "code",
   "execution_count": 108,
   "metadata": {},
   "outputs": [],
   "source": [
    "from sklearn.preprocessing import StandardScaler\n",
    "sc = StandardScaler()\n",
    "df_standard =sc.fit_transform(df_standard)\n",
    "df_standard = sc.transform(df_standard)"
   ]
  },
  {
   "cell_type": "code",
   "execution_count": 109,
   "metadata": {},
   "outputs": [],
   "source": [
    "df_final[features_standard] = df_standard"
   ]
  },
  {
   "cell_type": "code",
   "execution_count": 56,
   "metadata": {},
   "outputs": [
    {
     "data": {
      "text/html": [
       "<div>\n",
       "<style scoped>\n",
       "    .dataframe tbody tr th:only-of-type {\n",
       "        vertical-align: middle;\n",
       "    }\n",
       "\n",
       "    .dataframe tbody tr th {\n",
       "        vertical-align: top;\n",
       "    }\n",
       "\n",
       "    .dataframe thead th {\n",
       "        text-align: right;\n",
       "    }\n",
       "</style>\n",
       "<table border=\"1\" class=\"dataframe\">\n",
       "  <thead>\n",
       "    <tr style=\"text-align: right;\">\n",
       "      <th></th>\n",
       "      <th>bathrooms</th>\n",
       "      <th>bedrooms</th>\n",
       "      <th>dscpt_polarity</th>\n",
       "      <th>dscpt_subjectivity</th>\n",
       "      <th>Elevator</th>\n",
       "      <th>Hardwood Floors</th>\n",
       "      <th>Cats Allowed</th>\n",
       "      <th>Dogs Allowed</th>\n",
       "      <th>Doorman</th>\n",
       "      <th>Dishwasher</th>\n",
       "      <th>No Fee</th>\n",
       "      <th>Laundry in Building</th>\n",
       "      <th>Fitness Center</th>\n",
       "      <th>Pre-War</th>\n",
       "      <th>num_of_photos</th>\n",
       "      <th>gender</th>\n",
       "      <th>price</th>\n",
       "      <th>expected_price</th>\n",
       "      <th>followup</th>\n",
       "    </tr>\n",
       "  </thead>\n",
       "  <tbody>\n",
       "    <tr>\n",
       "      <th>0</th>\n",
       "      <td>1.5</td>\n",
       "      <td>3.0</td>\n",
       "      <td>0.136364</td>\n",
       "      <td>0.454545</td>\n",
       "      <td>0</td>\n",
       "      <td>0</td>\n",
       "      <td>0</td>\n",
       "      <td>0</td>\n",
       "      <td>0</td>\n",
       "      <td>0</td>\n",
       "      <td>0</td>\n",
       "      <td>0</td>\n",
       "      <td>0</td>\n",
       "      <td>0</td>\n",
       "      <td>5</td>\n",
       "      <td>0</td>\n",
       "      <td>3000.0</td>\n",
       "      <td>2700.0</td>\n",
       "      <td>13.0</td>\n",
       "    </tr>\n",
       "    <tr>\n",
       "      <th>1</th>\n",
       "      <td>1.0</td>\n",
       "      <td>2.0</td>\n",
       "      <td>0.000000</td>\n",
       "      <td>0.000000</td>\n",
       "      <td>1</td>\n",
       "      <td>0</td>\n",
       "      <td>1</td>\n",
       "      <td>1</td>\n",
       "      <td>1</td>\n",
       "      <td>0</td>\n",
       "      <td>0</td>\n",
       "      <td>0</td>\n",
       "      <td>1</td>\n",
       "      <td>0</td>\n",
       "      <td>11</td>\n",
       "      <td>1</td>\n",
       "      <td>5465.0</td>\n",
       "      <td>5200.0</td>\n",
       "      <td>NaN</td>\n",
       "    </tr>\n",
       "    <tr>\n",
       "      <th>2</th>\n",
       "      <td>1.0</td>\n",
       "      <td>1.0</td>\n",
       "      <td>0.616667</td>\n",
       "      <td>0.666667</td>\n",
       "      <td>0</td>\n",
       "      <td>1</td>\n",
       "      <td>0</td>\n",
       "      <td>0</td>\n",
       "      <td>0</td>\n",
       "      <td>1</td>\n",
       "      <td>0</td>\n",
       "      <td>0</td>\n",
       "      <td>0</td>\n",
       "      <td>0</td>\n",
       "      <td>8</td>\n",
       "      <td>1</td>\n",
       "      <td>2850.0</td>\n",
       "      <td>2900.0</td>\n",
       "      <td>NaN</td>\n",
       "    </tr>\n",
       "    <tr>\n",
       "      <th>3</th>\n",
       "      <td>1.0</td>\n",
       "      <td>1.0</td>\n",
       "      <td>0.500000</td>\n",
       "      <td>1.000000</td>\n",
       "      <td>0</td>\n",
       "      <td>1</td>\n",
       "      <td>0</td>\n",
       "      <td>0</td>\n",
       "      <td>0</td>\n",
       "      <td>0</td>\n",
       "      <td>1</td>\n",
       "      <td>0</td>\n",
       "      <td>0</td>\n",
       "      <td>0</td>\n",
       "      <td>3</td>\n",
       "      <td>0</td>\n",
       "      <td>3275.0</td>\n",
       "      <td>3500.0</td>\n",
       "      <td>NaN</td>\n",
       "    </tr>\n",
       "    <tr>\n",
       "      <th>4</th>\n",
       "      <td>1.0</td>\n",
       "      <td>4.0</td>\n",
       "      <td>0.850000</td>\n",
       "      <td>1.000000</td>\n",
       "      <td>0</td>\n",
       "      <td>0</td>\n",
       "      <td>0</td>\n",
       "      <td>0</td>\n",
       "      <td>0</td>\n",
       "      <td>0</td>\n",
       "      <td>0</td>\n",
       "      <td>0</td>\n",
       "      <td>0</td>\n",
       "      <td>1</td>\n",
       "      <td>3</td>\n",
       "      <td>0</td>\n",
       "      <td>3350.0</td>\n",
       "      <td>3200.0</td>\n",
       "      <td>0.0</td>\n",
       "    </tr>\n",
       "    <tr>\n",
       "      <th>...</th>\n",
       "      <td>...</td>\n",
       "      <td>...</td>\n",
       "      <td>...</td>\n",
       "      <td>...</td>\n",
       "      <td>...</td>\n",
       "      <td>...</td>\n",
       "      <td>...</td>\n",
       "      <td>...</td>\n",
       "      <td>...</td>\n",
       "      <td>...</td>\n",
       "      <td>...</td>\n",
       "      <td>...</td>\n",
       "      <td>...</td>\n",
       "      <td>...</td>\n",
       "      <td>...</td>\n",
       "      <td>...</td>\n",
       "      <td>...</td>\n",
       "      <td>...</td>\n",
       "      <td>...</td>\n",
       "    </tr>\n",
       "    <tr>\n",
       "      <th>53670</th>\n",
       "      <td>1.0</td>\n",
       "      <td>2.0</td>\n",
       "      <td>0.175000</td>\n",
       "      <td>0.775000</td>\n",
       "      <td>1</td>\n",
       "      <td>1</td>\n",
       "      <td>0</td>\n",
       "      <td>0</td>\n",
       "      <td>0</td>\n",
       "      <td>1</td>\n",
       "      <td>1</td>\n",
       "      <td>1</td>\n",
       "      <td>0</td>\n",
       "      <td>0</td>\n",
       "      <td>4</td>\n",
       "      <td>1</td>\n",
       "      <td>3200.0</td>\n",
       "      <td>3500.0</td>\n",
       "      <td>7.0</td>\n",
       "    </tr>\n",
       "    <tr>\n",
       "      <th>53671</th>\n",
       "      <td>1.0</td>\n",
       "      <td>1.0</td>\n",
       "      <td>0.160000</td>\n",
       "      <td>0.540000</td>\n",
       "      <td>1</td>\n",
       "      <td>0</td>\n",
       "      <td>1</td>\n",
       "      <td>1</td>\n",
       "      <td>1</td>\n",
       "      <td>0</td>\n",
       "      <td>0</td>\n",
       "      <td>0</td>\n",
       "      <td>1</td>\n",
       "      <td>0</td>\n",
       "      <td>8</td>\n",
       "      <td>0</td>\n",
       "      <td>3950.0</td>\n",
       "      <td>3500.0</td>\n",
       "      <td>NaN</td>\n",
       "    </tr>\n",
       "    <tr>\n",
       "      <th>53672</th>\n",
       "      <td>1.0</td>\n",
       "      <td>1.0</td>\n",
       "      <td>0.214286</td>\n",
       "      <td>0.428571</td>\n",
       "      <td>1</td>\n",
       "      <td>0</td>\n",
       "      <td>1</td>\n",
       "      <td>1</td>\n",
       "      <td>1</td>\n",
       "      <td>0</td>\n",
       "      <td>0</td>\n",
       "      <td>0</td>\n",
       "      <td>0</td>\n",
       "      <td>1</td>\n",
       "      <td>3</td>\n",
       "      <td>0</td>\n",
       "      <td>2595.0</td>\n",
       "      <td>2200.0</td>\n",
       "      <td>5.0</td>\n",
       "    </tr>\n",
       "    <tr>\n",
       "      <th>53673</th>\n",
       "      <td>1.0</td>\n",
       "      <td>0.0</td>\n",
       "      <td>0.500000</td>\n",
       "      <td>1.000000</td>\n",
       "      <td>1</td>\n",
       "      <td>0</td>\n",
       "      <td>1</td>\n",
       "      <td>1</td>\n",
       "      <td>1</td>\n",
       "      <td>0</td>\n",
       "      <td>0</td>\n",
       "      <td>0</td>\n",
       "      <td>0</td>\n",
       "      <td>1</td>\n",
       "      <td>9</td>\n",
       "      <td>0</td>\n",
       "      <td>3350.0</td>\n",
       "      <td>3900.0</td>\n",
       "      <td>15.0</td>\n",
       "    </tr>\n",
       "    <tr>\n",
       "      <th>53674</th>\n",
       "      <td>1.0</td>\n",
       "      <td>2.0</td>\n",
       "      <td>0.000000</td>\n",
       "      <td>0.750000</td>\n",
       "      <td>0</td>\n",
       "      <td>1</td>\n",
       "      <td>0</td>\n",
       "      <td>0</td>\n",
       "      <td>0</td>\n",
       "      <td>0</td>\n",
       "      <td>0</td>\n",
       "      <td>0</td>\n",
       "      <td>0</td>\n",
       "      <td>0</td>\n",
       "      <td>7</td>\n",
       "      <td>0</td>\n",
       "      <td>2200.0</td>\n",
       "      <td>2300.0</td>\n",
       "      <td>NaN</td>\n",
       "    </tr>\n",
       "  </tbody>\n",
       "</table>\n",
       "<p>53675 rows × 19 columns</p>\n",
       "</div>"
      ],
      "text/plain": [
       "       bathrooms  bedrooms  dscpt_polarity  dscpt_subjectivity  Elevator  \\\n",
       "0            1.5       3.0        0.136364            0.454545         0   \n",
       "1            1.0       2.0        0.000000            0.000000         1   \n",
       "2            1.0       1.0        0.616667            0.666667         0   \n",
       "3            1.0       1.0        0.500000            1.000000         0   \n",
       "4            1.0       4.0        0.850000            1.000000         0   \n",
       "...          ...       ...             ...                 ...       ...   \n",
       "53670        1.0       2.0        0.175000            0.775000         1   \n",
       "53671        1.0       1.0        0.160000            0.540000         1   \n",
       "53672        1.0       1.0        0.214286            0.428571         1   \n",
       "53673        1.0       0.0        0.500000            1.000000         1   \n",
       "53674        1.0       2.0        0.000000            0.750000         0   \n",
       "\n",
       "       Hardwood Floors  Cats Allowed  Dogs Allowed  Doorman  Dishwasher  \\\n",
       "0                    0             0             0        0           0   \n",
       "1                    0             1             1        1           0   \n",
       "2                    1             0             0        0           1   \n",
       "3                    1             0             0        0           0   \n",
       "4                    0             0             0        0           0   \n",
       "...                ...           ...           ...      ...         ...   \n",
       "53670                1             0             0        0           1   \n",
       "53671                0             1             1        1           0   \n",
       "53672                0             1             1        1           0   \n",
       "53673                0             1             1        1           0   \n",
       "53674                1             0             0        0           0   \n",
       "\n",
       "       No Fee  Laundry in Building  Fitness Center  Pre-War  num_of_photos  \\\n",
       "0           0                    0               0        0              5   \n",
       "1           0                    0               1        0             11   \n",
       "2           0                    0               0        0              8   \n",
       "3           1                    0               0        0              3   \n",
       "4           0                    0               0        1              3   \n",
       "...       ...                  ...             ...      ...            ...   \n",
       "53670       1                    1               0        0              4   \n",
       "53671       0                    0               1        0              8   \n",
       "53672       0                    0               0        1              3   \n",
       "53673       0                    0               0        1              9   \n",
       "53674       0                    0               0        0              7   \n",
       "\n",
       "       gender   price  expected_price  followup  \n",
       "0           0  3000.0          2700.0      13.0  \n",
       "1           1  5465.0          5200.0       NaN  \n",
       "2           1  2850.0          2900.0       NaN  \n",
       "3           0  3275.0          3500.0       NaN  \n",
       "4           0  3350.0          3200.0       0.0  \n",
       "...       ...     ...             ...       ...  \n",
       "53670       1  3200.0          3500.0       7.0  \n",
       "53671       0  3950.0          3500.0       NaN  \n",
       "53672       0  2595.0          2200.0       5.0  \n",
       "53673       0  3350.0          3900.0      15.0  \n",
       "53674       0  2200.0          2300.0       NaN  \n",
       "\n",
       "[53675 rows x 19 columns]"
      ]
     },
     "execution_count": 56,
     "metadata": {},
     "output_type": "execute_result"
    }
   ],
   "source": [
    "df_final"
   ]
  },
  {
   "cell_type": "markdown",
   "metadata": {},
   "source": [
    "## 2.2 数据分割"
   ]
  },
  {
   "cell_type": "code",
   "execution_count": 111,
   "metadata": {},
   "outputs": [],
   "source": [
    "from sklearn.model_selection import train_test_split\n",
    "\n",
    "# 30% examples in test data\n",
    "train, test, train_labels, test_labels = train_test_split(df_final, labels, \n",
    "                                                          stratify = labels,\n",
    "                                                          test_size = 0.3, \n",
    "                                                          random_state = RSEED)\n",
    "\n",
    "train = train.fillna(train.mean())\n",
    "test = test.fillna(test.mean())\n",
    "\n",
    "# Features for feature importances\n",
    "features = list(train.columns)"
   ]
  },
  {
   "cell_type": "code",
   "execution_count": 112,
   "metadata": {},
   "outputs": [
    {
     "name": "stdout",
     "output_type": "stream",
     "text": [
      "training sample is  (37572, 19)\n",
      "test sample is (16103, 19)\n"
     ]
    }
   ],
   "source": [
    "print('training sample is ', train.shape)\n",
    "print('test sample is', test.shape)"
   ]
  },
  {
   "cell_type": "code",
   "execution_count": null,
   "metadata": {},
   "outputs": [],
   "source": [
    "##Descriptive analysis"
   ]
  },
  {
   "cell_type": "code",
   "execution_count": 58,
   "metadata": {},
   "outputs": [],
   "source": [
    "# To begin this exploratory analysis, first import libraries and define functions and utilities to work with the data.\n",
    "\n",
    "from mpl_toolkits.mplot3d import Axes3D\n",
    "from sklearn.preprocessing import StandardScaler\n",
    "import matplotlib.pyplot as plt # plotting\n",
    "import numpy as np # linear algebra\n",
    "import os # accessing directory structure\n",
    "import pandas as pd # data processing, CSV file I/O (e.g. pd.read_csv)\n",
    "\n",
    "# for beautiful plots and some types of graphs\n",
    "import seaborn as sns"
   ]
  },
  {
   "cell_type": "code",
   "execution_count": 60,
   "metadata": {},
   "outputs": [],
   "source": [
    "def plotCorrelationMatrix(df, graphWidth, segmentName=None):\n",
    "    filename = segmentName if segmentName else getattr(df, \"dataframeName\", segmentName)\n",
    "    df = df.dropna('columns') # drop columns with NaN\n",
    "    df = df[[col for col in df if df[col].nunique() > 1]] # keep columns where there are more than 1 unique values\n",
    "    if df.shape[1] < 2:\n",
    "        print(f'No correlation plots shown: The number of non-NaN or constant columns ({df.shape[1]}) is less than 2')\n",
    "        return\n",
    "    corr = df.corr()\n",
    "    plt.figure(num=None, figsize=(graphWidth, graphWidth), dpi=80, facecolor='w', edgecolor='k')\n",
    "    corrMat = plt.matshow(corr, fignum = 1)\n",
    "    plt.xticks(range(len(corr.columns)), corr.columns, rotation=90)\n",
    "    plt.yticks(range(len(corr.columns)), corr.columns)\n",
    "    plt.gca().xaxis.tick_bottom()\n",
    "    plt.colorbar(corrMat)\n",
    "    plt.title(f'Correlation Matrix for {filename}', fontsize=15)\n",
    "    plt.show()"
   ]
  },
  {
   "cell_type": "code",
   "execution_count": 64,
   "metadata": {},
   "outputs": [],
   "source": [
    "df_final1=df_final"
   ]
  },
  {
   "cell_type": "code",
   "execution_count": 65,
   "metadata": {},
   "outputs": [],
   "source": [
    "df_final1[\"is_deal\"]= df[\"is_deal\"]"
   ]
  },
  {
   "cell_type": "code",
   "execution_count": 67,
   "metadata": {},
   "outputs": [
    {
     "data": {
      "text/html": [
       "<div>\n",
       "<style scoped>\n",
       "    .dataframe tbody tr th:only-of-type {\n",
       "        vertical-align: middle;\n",
       "    }\n",
       "\n",
       "    .dataframe tbody tr th {\n",
       "        vertical-align: top;\n",
       "    }\n",
       "\n",
       "    .dataframe thead th {\n",
       "        text-align: right;\n",
       "    }\n",
       "</style>\n",
       "<table border=\"1\" class=\"dataframe\">\n",
       "  <thead>\n",
       "    <tr style=\"text-align: right;\">\n",
       "      <th></th>\n",
       "      <th>bathrooms</th>\n",
       "      <th>bedrooms</th>\n",
       "      <th>dscpt_polarity</th>\n",
       "      <th>dscpt_subjectivity</th>\n",
       "      <th>Elevator</th>\n",
       "      <th>Hardwood Floors</th>\n",
       "      <th>Cats Allowed</th>\n",
       "      <th>Dogs Allowed</th>\n",
       "      <th>Doorman</th>\n",
       "      <th>Dishwasher</th>\n",
       "      <th>No Fee</th>\n",
       "      <th>Laundry in Building</th>\n",
       "      <th>Fitness Center</th>\n",
       "      <th>Pre-War</th>\n",
       "      <th>num_of_photos</th>\n",
       "      <th>gender</th>\n",
       "      <th>price</th>\n",
       "      <th>expected_price</th>\n",
       "      <th>followup</th>\n",
       "      <th>is_deal</th>\n",
       "    </tr>\n",
       "  </thead>\n",
       "  <tbody>\n",
       "    <tr>\n",
       "      <th>0</th>\n",
       "      <td>1.5</td>\n",
       "      <td>3.0</td>\n",
       "      <td>0.136364</td>\n",
       "      <td>0.454545</td>\n",
       "      <td>0</td>\n",
       "      <td>0</td>\n",
       "      <td>0</td>\n",
       "      <td>0</td>\n",
       "      <td>0</td>\n",
       "      <td>0</td>\n",
       "      <td>0</td>\n",
       "      <td>0</td>\n",
       "      <td>0</td>\n",
       "      <td>0</td>\n",
       "      <td>5</td>\n",
       "      <td>0</td>\n",
       "      <td>3000.0</td>\n",
       "      <td>2700.0</td>\n",
       "      <td>13.0</td>\n",
       "      <td>1</td>\n",
       "    </tr>\n",
       "    <tr>\n",
       "      <th>1</th>\n",
       "      <td>1.0</td>\n",
       "      <td>2.0</td>\n",
       "      <td>0.000000</td>\n",
       "      <td>0.000000</td>\n",
       "      <td>1</td>\n",
       "      <td>0</td>\n",
       "      <td>1</td>\n",
       "      <td>1</td>\n",
       "      <td>1</td>\n",
       "      <td>0</td>\n",
       "      <td>0</td>\n",
       "      <td>0</td>\n",
       "      <td>1</td>\n",
       "      <td>0</td>\n",
       "      <td>11</td>\n",
       "      <td>1</td>\n",
       "      <td>5465.0</td>\n",
       "      <td>5200.0</td>\n",
       "      <td>NaN</td>\n",
       "      <td>0</td>\n",
       "    </tr>\n",
       "    <tr>\n",
       "      <th>2</th>\n",
       "      <td>1.0</td>\n",
       "      <td>1.0</td>\n",
       "      <td>0.616667</td>\n",
       "      <td>0.666667</td>\n",
       "      <td>0</td>\n",
       "      <td>1</td>\n",
       "      <td>0</td>\n",
       "      <td>0</td>\n",
       "      <td>0</td>\n",
       "      <td>1</td>\n",
       "      <td>0</td>\n",
       "      <td>0</td>\n",
       "      <td>0</td>\n",
       "      <td>0</td>\n",
       "      <td>8</td>\n",
       "      <td>1</td>\n",
       "      <td>2850.0</td>\n",
       "      <td>2900.0</td>\n",
       "      <td>NaN</td>\n",
       "      <td>1</td>\n",
       "    </tr>\n",
       "    <tr>\n",
       "      <th>3</th>\n",
       "      <td>1.0</td>\n",
       "      <td>1.0</td>\n",
       "      <td>0.500000</td>\n",
       "      <td>1.000000</td>\n",
       "      <td>0</td>\n",
       "      <td>1</td>\n",
       "      <td>0</td>\n",
       "      <td>0</td>\n",
       "      <td>0</td>\n",
       "      <td>0</td>\n",
       "      <td>1</td>\n",
       "      <td>0</td>\n",
       "      <td>0</td>\n",
       "      <td>0</td>\n",
       "      <td>3</td>\n",
       "      <td>0</td>\n",
       "      <td>3275.0</td>\n",
       "      <td>3500.0</td>\n",
       "      <td>NaN</td>\n",
       "      <td>0</td>\n",
       "    </tr>\n",
       "    <tr>\n",
       "      <th>4</th>\n",
       "      <td>1.0</td>\n",
       "      <td>4.0</td>\n",
       "      <td>0.850000</td>\n",
       "      <td>1.000000</td>\n",
       "      <td>0</td>\n",
       "      <td>0</td>\n",
       "      <td>0</td>\n",
       "      <td>0</td>\n",
       "      <td>0</td>\n",
       "      <td>0</td>\n",
       "      <td>0</td>\n",
       "      <td>0</td>\n",
       "      <td>0</td>\n",
       "      <td>1</td>\n",
       "      <td>3</td>\n",
       "      <td>0</td>\n",
       "      <td>3350.0</td>\n",
       "      <td>3200.0</td>\n",
       "      <td>0.0</td>\n",
       "      <td>0</td>\n",
       "    </tr>\n",
       "    <tr>\n",
       "      <th>...</th>\n",
       "      <td>...</td>\n",
       "      <td>...</td>\n",
       "      <td>...</td>\n",
       "      <td>...</td>\n",
       "      <td>...</td>\n",
       "      <td>...</td>\n",
       "      <td>...</td>\n",
       "      <td>...</td>\n",
       "      <td>...</td>\n",
       "      <td>...</td>\n",
       "      <td>...</td>\n",
       "      <td>...</td>\n",
       "      <td>...</td>\n",
       "      <td>...</td>\n",
       "      <td>...</td>\n",
       "      <td>...</td>\n",
       "      <td>...</td>\n",
       "      <td>...</td>\n",
       "      <td>...</td>\n",
       "      <td>...</td>\n",
       "    </tr>\n",
       "    <tr>\n",
       "      <th>53670</th>\n",
       "      <td>1.0</td>\n",
       "      <td>2.0</td>\n",
       "      <td>0.175000</td>\n",
       "      <td>0.775000</td>\n",
       "      <td>1</td>\n",
       "      <td>1</td>\n",
       "      <td>0</td>\n",
       "      <td>0</td>\n",
       "      <td>0</td>\n",
       "      <td>1</td>\n",
       "      <td>1</td>\n",
       "      <td>1</td>\n",
       "      <td>0</td>\n",
       "      <td>0</td>\n",
       "      <td>4</td>\n",
       "      <td>1</td>\n",
       "      <td>3200.0</td>\n",
       "      <td>3500.0</td>\n",
       "      <td>7.0</td>\n",
       "      <td>0</td>\n",
       "    </tr>\n",
       "    <tr>\n",
       "      <th>53671</th>\n",
       "      <td>1.0</td>\n",
       "      <td>1.0</td>\n",
       "      <td>0.160000</td>\n",
       "      <td>0.540000</td>\n",
       "      <td>1</td>\n",
       "      <td>0</td>\n",
       "      <td>1</td>\n",
       "      <td>1</td>\n",
       "      <td>1</td>\n",
       "      <td>0</td>\n",
       "      <td>0</td>\n",
       "      <td>0</td>\n",
       "      <td>1</td>\n",
       "      <td>0</td>\n",
       "      <td>8</td>\n",
       "      <td>0</td>\n",
       "      <td>3950.0</td>\n",
       "      <td>3500.0</td>\n",
       "      <td>NaN</td>\n",
       "      <td>0</td>\n",
       "    </tr>\n",
       "    <tr>\n",
       "      <th>53672</th>\n",
       "      <td>1.0</td>\n",
       "      <td>1.0</td>\n",
       "      <td>0.214286</td>\n",
       "      <td>0.428571</td>\n",
       "      <td>1</td>\n",
       "      <td>0</td>\n",
       "      <td>1</td>\n",
       "      <td>1</td>\n",
       "      <td>1</td>\n",
       "      <td>0</td>\n",
       "      <td>0</td>\n",
       "      <td>0</td>\n",
       "      <td>0</td>\n",
       "      <td>1</td>\n",
       "      <td>3</td>\n",
       "      <td>0</td>\n",
       "      <td>2595.0</td>\n",
       "      <td>2200.0</td>\n",
       "      <td>5.0</td>\n",
       "      <td>0</td>\n",
       "    </tr>\n",
       "    <tr>\n",
       "      <th>53673</th>\n",
       "      <td>1.0</td>\n",
       "      <td>0.0</td>\n",
       "      <td>0.500000</td>\n",
       "      <td>1.000000</td>\n",
       "      <td>1</td>\n",
       "      <td>0</td>\n",
       "      <td>1</td>\n",
       "      <td>1</td>\n",
       "      <td>1</td>\n",
       "      <td>0</td>\n",
       "      <td>0</td>\n",
       "      <td>0</td>\n",
       "      <td>0</td>\n",
       "      <td>1</td>\n",
       "      <td>9</td>\n",
       "      <td>0</td>\n",
       "      <td>3350.0</td>\n",
       "      <td>3900.0</td>\n",
       "      <td>15.0</td>\n",
       "      <td>1</td>\n",
       "    </tr>\n",
       "    <tr>\n",
       "      <th>53674</th>\n",
       "      <td>1.0</td>\n",
       "      <td>2.0</td>\n",
       "      <td>0.000000</td>\n",
       "      <td>0.750000</td>\n",
       "      <td>0</td>\n",
       "      <td>1</td>\n",
       "      <td>0</td>\n",
       "      <td>0</td>\n",
       "      <td>0</td>\n",
       "      <td>0</td>\n",
       "      <td>0</td>\n",
       "      <td>0</td>\n",
       "      <td>0</td>\n",
       "      <td>0</td>\n",
       "      <td>7</td>\n",
       "      <td>0</td>\n",
       "      <td>2200.0</td>\n",
       "      <td>2300.0</td>\n",
       "      <td>NaN</td>\n",
       "      <td>0</td>\n",
       "    </tr>\n",
       "  </tbody>\n",
       "</table>\n",
       "<p>53675 rows × 20 columns</p>\n",
       "</div>"
      ],
      "text/plain": [
       "       bathrooms  bedrooms  dscpt_polarity  dscpt_subjectivity  Elevator  \\\n",
       "0            1.5       3.0        0.136364            0.454545         0   \n",
       "1            1.0       2.0        0.000000            0.000000         1   \n",
       "2            1.0       1.0        0.616667            0.666667         0   \n",
       "3            1.0       1.0        0.500000            1.000000         0   \n",
       "4            1.0       4.0        0.850000            1.000000         0   \n",
       "...          ...       ...             ...                 ...       ...   \n",
       "53670        1.0       2.0        0.175000            0.775000         1   \n",
       "53671        1.0       1.0        0.160000            0.540000         1   \n",
       "53672        1.0       1.0        0.214286            0.428571         1   \n",
       "53673        1.0       0.0        0.500000            1.000000         1   \n",
       "53674        1.0       2.0        0.000000            0.750000         0   \n",
       "\n",
       "       Hardwood Floors  Cats Allowed  Dogs Allowed  Doorman  Dishwasher  \\\n",
       "0                    0             0             0        0           0   \n",
       "1                    0             1             1        1           0   \n",
       "2                    1             0             0        0           1   \n",
       "3                    1             0             0        0           0   \n",
       "4                    0             0             0        0           0   \n",
       "...                ...           ...           ...      ...         ...   \n",
       "53670                1             0             0        0           1   \n",
       "53671                0             1             1        1           0   \n",
       "53672                0             1             1        1           0   \n",
       "53673                0             1             1        1           0   \n",
       "53674                1             0             0        0           0   \n",
       "\n",
       "       No Fee  Laundry in Building  Fitness Center  Pre-War  num_of_photos  \\\n",
       "0           0                    0               0        0              5   \n",
       "1           0                    0               1        0             11   \n",
       "2           0                    0               0        0              8   \n",
       "3           1                    0               0        0              3   \n",
       "4           0                    0               0        1              3   \n",
       "...       ...                  ...             ...      ...            ...   \n",
       "53670       1                    1               0        0              4   \n",
       "53671       0                    0               1        0              8   \n",
       "53672       0                    0               0        1              3   \n",
       "53673       0                    0               0        1              9   \n",
       "53674       0                    0               0        0              7   \n",
       "\n",
       "       gender   price  expected_price  followup  is_deal  \n",
       "0           0  3000.0          2700.0      13.0        1  \n",
       "1           1  5465.0          5200.0       NaN        0  \n",
       "2           1  2850.0          2900.0       NaN        1  \n",
       "3           0  3275.0          3500.0       NaN        0  \n",
       "4           0  3350.0          3200.0       0.0        0  \n",
       "...       ...     ...             ...       ...      ...  \n",
       "53670       1  3200.0          3500.0       7.0        0  \n",
       "53671       0  3950.0          3500.0       NaN        0  \n",
       "53672       0  2595.0          2200.0       5.0        0  \n",
       "53673       0  3350.0          3900.0      15.0        1  \n",
       "53674       0  2200.0          2300.0       NaN        0  \n",
       "\n",
       "[53675 rows x 20 columns]"
      ]
     },
     "execution_count": 67,
     "metadata": {},
     "output_type": "execute_result"
    }
   ],
   "source": [
    "df_final1"
   ]
  },
  {
   "cell_type": "code",
   "execution_count": 73,
   "metadata": {},
   "outputs": [
    {
     "data": {
      "image/png": "[encoded data removed]",
      "text/plain": [
       "<Figure size 936x720 with 20 Axes>"
      ]
     },
     "metadata": {
      "needs_background": "light"
     },
     "output_type": "display_data"
    }
   ],
   "source": [
    "df_final1.hist(figsize=(13,10))\n",
    "plt.show()"
   ]
  },
  {
   "cell_type": "code",
   "execution_count": 72,
   "metadata": {},
   "outputs": [],
   "source": [
    "df_final1.to_csv('final2.csv')"
   ]
  },
  {
   "cell_type": "code",
   "execution_count": 68,
   "metadata": {},
   "outputs": [
    {
     "data": {
      "image/png": "[encoded data removed]",
      "text/plain": [
       "<Figure size 640x640 with 2 Axes>"
      ]
     },
     "metadata": {},
     "output_type": "display_data"
    }
   ],
   "source": [
    "plotCorrelationMatrix(df_final1, 8, \"All inquiries\")"
   ]
  },
  {
   "cell_type": "markdown",
   "metadata": {},
   "source": [
    "# 3. 模型training\n",
    "## 3.1 Baseline Model: Logistic Regression"
   ]
  },
  {
   "cell_type": "code",
   "execution_count": 237,
   "metadata": {},
   "outputs": [],
   "source": [
    "performance = {}"
   ]
  },
  {
   "cell_type": "code",
   "execution_count": 231,
   "metadata": {},
   "outputs": [],
   "source": [
    "from sklearn.linear_model import LogisticRegression\n",
    "from sklearn import tree\n",
    "from sklearn.metrics import precision_score, recall_score, accuracy_score, f1_score"
   ]
  },
  {
   "cell_type": "code",
   "execution_count": 232,
   "metadata": {},
   "outputs": [
    {
     "data": {
      "text/plain": [
       "LogisticRegression(C=400, class_weight=None, dual=False, fit_intercept=True,\n",
       "                   intercept_scaling=1, l1_ratio=None, max_iter=100,\n",
       "                   multi_class='auto', n_jobs=None, penalty='l2',\n",
       "                   random_state=None, solver='lbfgs', tol=0.0001, verbose=0,\n",
       "                   warm_start=False)"
      ]
     },
     "execution_count": 232,
     "metadata": {},
     "output_type": "execute_result"
    }
   ],
   "source": [
    "logregModel = LogisticRegression(C=400) #instantiate\n",
    "logregModel.fit(train, train_labels) # fit model"
   ]
  },
  {
   "cell_type": "code",
   "execution_count": 233,
   "metadata": {},
   "outputs": [
    {
     "name": "stdout",
     "output_type": "stream",
     "text": [
      "Precision = 0.3829487077111448\n",
      "Recall = 0.4999478750390937\n",
      "Accuracy = 0.7658362610454594\n"
     ]
    }
   ],
   "source": [
    "preds = logregModel.predict(train)\n",
    "\n",
    "print(\"Precision = {}\".format(precision_score(train_labels, preds, average='macro')))\n",
    "print(\"Recall = {}\".format(recall_score(train_labels, preds, average='macro')))\n",
    "print(\"Accuracy = {}\".format(accuracy_score(train_labels, preds)))"
   ]
  },
  {
   "cell_type": "code",
   "execution_count": 242,
   "metadata": {},
   "outputs": [
    {
     "name": "stdout",
     "output_type": "stream",
     "text": [
      "Precision = 0.3829337970438455\n",
      "Recall = 0.49995945836373956\n",
      "Accuracy = 0.7658200335341241\n"
     ]
    }
   ],
   "source": [
    "preds = logregModel.predict(test)\n",
    "\n",
    "pres, rec, acc = (\n",
    "    precision_score(test_labels, preds, average='macro'),\n",
    "    recall_score(test_labels, preds, average='macro'),\n",
    "    accuracy_score(test_labels, preds)\n",
    ")\n",
    "print(\"Precision = {}\".format(pres))\n",
    "print(\"Recall = {}\".format(rec))\n",
    "print(\"Accuracy = {}\".format(acc))\n",
    "\n",
    "performance['logistic'] = (pres, rec, acc)"
   ]
  },
  {
   "cell_type": "code",
   "execution_count": 238,
   "metadata": {},
   "outputs": [],
   "source": []
  },
  {
   "cell_type": "code",
   "execution_count": 239,
   "metadata": {},
   "outputs": [
    {
     "data": {
      "text/plain": [
       "1"
      ]
     },
     "execution_count": 239,
     "metadata": {},
     "output_type": "execute_result"
    }
   ],
   "source": [
    "preds.sum()"
   ]
  },
  {
   "cell_type": "code",
   "execution_count": 240,
   "metadata": {},
   "outputs": [
    {
     "data": {
      "text/plain": [
       "3770"
      ]
     },
     "execution_count": 240,
     "metadata": {},
     "output_type": "execute_result"
    }
   ],
   "source": [
    "test_labels.sum()"
   ]
  },
  {
   "cell_type": "code",
   "execution_count": 241,
   "metadata": {},
   "outputs": [
    {
     "data": {
      "text/plain": [
       "array([[-0.29929301,  0.09454247,  0.07624918, -0.11582866, -0.05648102,\n",
       "         0.07078875,  0.02854568, -0.32849005, -0.48165352, -0.04013258,\n",
       "         0.33048016,  0.14803438, -0.04653605, -0.38846947, -0.60667547,\n",
       "         0.2961993 ,  0.27502064,  0.27141961,  0.01495243]])"
      ]
     },
     "execution_count": 241,
     "metadata": {},
     "output_type": "execute_result"
    }
   ],
   "source": [
    "logregModel.coef_"
   ]
  },
  {
   "cell_type": "code",
   "execution_count": 169,
   "metadata": {},
   "outputs": [
    {
     "data": {
      "text/plain": [
       "[('bathrooms', -0.29929301245574685),\n",
       " ('bedrooms', 0.09454246900499783),\n",
       " ('dscpt_polarity', 0.07624917741119284),\n",
       " ('dscpt_subjectivity', -0.11582866052570917),\n",
       " ('Elevator', -0.05648102051132694),\n",
       " ('Hardwood Floors', 0.0707887473203212),\n",
       " ('Cats Allowed', 0.028545678014498817),\n",
       " ('Dogs Allowed', -0.32849004812842847),\n",
       " ('Doorman', -0.4816535157251992),\n",
       " ('Dishwasher', -0.040132580538014065),\n",
       " ('No Fee', 0.33048016290616455),\n",
       " ('Laundry in Building', 0.14803437913491685),\n",
       " ('Fitness Center', -0.04653605494041259),\n",
       " ('Pre-War', -0.38846947244239505),\n",
       " ('num_of_photos', -0.6066754688644703),\n",
       " ('gender', 0.29619930433736713),\n",
       " ('price', 0.27502064058348635),\n",
       " ('expected_price', 0.2714196058080121),\n",
       " ('followup', 0.014952430083192688)]"
      ]
     },
     "execution_count": 169,
     "metadata": {},
     "output_type": "execute_result"
    }
   ],
   "source": [
    "list(zip(train.columns, logregModel.coef_[0]))"
   ]
  },
  {
   "cell_type": "markdown",
   "metadata": {},
   "source": [
    "## 3.2 Model Selection\n",
    "### 3.1.1 decision tree"
   ]
  },
  {
   "cell_type": "code",
   "execution_count": 170,
   "metadata": {},
   "outputs": [
    {
     "data": {
      "text/plain": [
       "DecisionTreeClassifier(ccp_alpha=0.0, class_weight=None, criterion='gini',\n",
       "                       max_depth=None, max_features=None, max_leaf_nodes=None,\n",
       "                       min_impurity_decrease=0.0, min_impurity_split=None,\n",
       "                       min_samples_leaf=1, min_samples_split=2,\n",
       "                       min_weight_fraction_leaf=0.0, presort='deprecated',\n",
       "                       random_state=None, splitter='best')"
      ]
     },
     "execution_count": 170,
     "metadata": {},
     "output_type": "execute_result"
    }
   ],
   "source": [
    "# Make a decision tree and train\n",
    "treeModel = tree.DecisionTreeClassifier()\n",
    "treeModel.fit(train, train_labels)"
   ]
  },
  {
   "cell_type": "code",
   "execution_count": 255,
   "metadata": {},
   "outputs": [
    {
     "name": "stdout",
     "output_type": "stream",
     "text": [
      "Precision = 0.5254073872315648\n",
      "Recall = 0.5233045692037128\n",
      "Accuracy = 0.6722349872694529\n"
     ]
    }
   ],
   "source": [
    "preds2 = treeModel.predict(test)\n",
    "\n",
    "pres, rec, acc = (\n",
    "    precision_score(test_labels, preds2, average='macro'),\n",
    "    recall_score(test_labels, preds2, average='macro'),\n",
    "    accuracy_score(test_labels, preds2)\n",
    ")\n",
    "print(\"Precision = {}\".format(pres))\n",
    "print(\"Recall = {}\".format(rec))\n",
    "print(\"Accuracy = {}\".format(acc))\n",
    "\n",
    "performance['decision_tree'] = (pres, rec, acc)"
   ]
  },
  {
   "cell_type": "code",
   "execution_count": 172,
   "metadata": {},
   "outputs": [
    {
     "data": {
      "text/html": [
       "<div>\n",
       "<style scoped>\n",
       "    .dataframe tbody tr th:only-of-type {\n",
       "        vertical-align: middle;\n",
       "    }\n",
       "\n",
       "    .dataframe tbody tr th {\n",
       "        vertical-align: top;\n",
       "    }\n",
       "\n",
       "    .dataframe thead th {\n",
       "        text-align: right;\n",
       "    }\n",
       "</style>\n",
       "<table border=\"1\" class=\"dataframe\">\n",
       "  <thead>\n",
       "    <tr style=\"text-align: right;\">\n",
       "      <th></th>\n",
       "      <th>feature</th>\n",
       "      <th>importance</th>\n",
       "    </tr>\n",
       "  </thead>\n",
       "  <tbody>\n",
       "    <tr>\n",
       "      <th>17</th>\n",
       "      <td>expected_price</td>\n",
       "      <td>0.170748</td>\n",
       "    </tr>\n",
       "    <tr>\n",
       "      <th>16</th>\n",
       "      <td>price</td>\n",
       "      <td>0.149383</td>\n",
       "    </tr>\n",
       "    <tr>\n",
       "      <th>14</th>\n",
       "      <td>num_of_photos</td>\n",
       "      <td>0.115779</td>\n",
       "    </tr>\n",
       "    <tr>\n",
       "      <th>18</th>\n",
       "      <td>followup</td>\n",
       "      <td>0.107736</td>\n",
       "    </tr>\n",
       "    <tr>\n",
       "      <th>2</th>\n",
       "      <td>dscpt_polarity</td>\n",
       "      <td>0.106574</td>\n",
       "    </tr>\n",
       "    <tr>\n",
       "      <th>3</th>\n",
       "      <td>dscpt_subjectivity</td>\n",
       "      <td>0.106042</td>\n",
       "    </tr>\n",
       "    <tr>\n",
       "      <th>1</th>\n",
       "      <td>bedrooms</td>\n",
       "      <td>0.040414</td>\n",
       "    </tr>\n",
       "    <tr>\n",
       "      <th>11</th>\n",
       "      <td>Laundry in Building</td>\n",
       "      <td>0.020219</td>\n",
       "    </tr>\n",
       "    <tr>\n",
       "      <th>9</th>\n",
       "      <td>Dishwasher</td>\n",
       "      <td>0.020166</td>\n",
       "    </tr>\n",
       "    <tr>\n",
       "      <th>4</th>\n",
       "      <td>Elevator</td>\n",
       "      <td>0.019413</td>\n",
       "    </tr>\n",
       "  </tbody>\n",
       "</table>\n",
       "</div>"
      ],
      "text/plain": [
       "                feature  importance\n",
       "17       expected_price    0.170748\n",
       "16                price    0.149383\n",
       "14        num_of_photos    0.115779\n",
       "18             followup    0.107736\n",
       "2        dscpt_polarity    0.106574\n",
       "3    dscpt_subjectivity    0.106042\n",
       "1              bedrooms    0.040414\n",
       "11  Laundry in Building    0.020219\n",
       "9            Dishwasher    0.020166\n",
       "4              Elevator    0.019413"
      ]
     },
     "execution_count": 172,
     "metadata": {},
     "output_type": "execute_result"
    }
   ],
   "source": [
    "fi_model = pd.DataFrame({'feature': features,\n",
    "                   'importance': treeModel.feature_importances_}).\\\n",
    "                    sort_values('importance', ascending = False)\n",
    "fi_model.head(10)"
   ]
  },
  {
   "cell_type": "markdown",
   "metadata": {},
   "source": [
    "### 3.1.2 random forest"
   ]
  },
  {
   "cell_type": "code",
   "execution_count": 149,
   "metadata": {},
   "outputs": [
    {
     "name": "stderr",
     "output_type": "stream",
     "text": [
      "[Parallel(n_jobs=-1)]: Using backend ThreadingBackend with 8 concurrent workers.\n",
      "[Parallel(n_jobs=-1)]: Done  34 tasks      | elapsed:    0.2s\n",
      "[Parallel(n_jobs=-1)]: Done 100 out of 100 | elapsed:    0.7s finished\n"
     ]
    },
    {
     "data": {
      "text/plain": [
       "RandomForestClassifier(bootstrap=True, ccp_alpha=0.0, class_weight=None,\n",
       "                       criterion='gini', max_depth=None, max_features='sqrt',\n",
       "                       max_leaf_nodes=None, max_samples=None,\n",
       "                       min_impurity_decrease=0.0, min_impurity_split=None,\n",
       "                       min_samples_leaf=1, min_samples_split=2,\n",
       "                       min_weight_fraction_leaf=0.0, n_estimators=100,\n",
       "                       n_jobs=-1, oob_score=False, random_state=30, verbose=1,\n",
       "                       warm_start=False)"
      ]
     },
     "execution_count": 149,
     "metadata": {},
     "output_type": "execute_result"
    }
   ],
   "source": [
    "from sklearn.ensemble import RandomForestClassifier\n",
    "from sklearn.metrics import confusion_matrix, classification_report\n",
    "\n",
    "# Create the model with 100 trees\n",
    "RM_model = RandomForestClassifier(n_estimators=100, \n",
    "                               random_state=RSEED, \n",
    "                               max_features = 'sqrt',\n",
    "                               n_jobs=-1, verbose = 1)\n",
    "\n",
    "# Fit on training data\n",
    "RM_model.fit(train, train_labels)"
   ]
  },
  {
   "cell_type": "code",
   "execution_count": 254,
   "metadata": {},
   "outputs": [
    {
     "name": "stdout",
     "output_type": "stream",
     "text": [
      "Precision = 0.589082748323531\n",
      "Recall = 0.5173644129603331\n",
      "Accuracy = 0.7590511084891014\n"
     ]
    },
    {
     "name": "stderr",
     "output_type": "stream",
     "text": [
      "[Parallel(n_jobs=8)]: Using backend ThreadingBackend with 8 concurrent workers.\n",
      "[Parallel(n_jobs=8)]: Done  34 tasks      | elapsed:    0.0s\n",
      "[Parallel(n_jobs=8)]: Done 100 out of 100 | elapsed:    0.0s finished\n"
     ]
    }
   ],
   "source": [
    "preds3 = RM_model.predict(test)\n",
    "\n",
    "pres, rec, acc = (\n",
    "    precision_score(test_labels, preds3, average='macro'),\n",
    "    recall_score(test_labels, preds3, average='macro'),\n",
    "    accuracy_score(test_labels, preds3)\n",
    ")\n",
    "print(\"Precision = {}\".format(pres))\n",
    "print(\"Recall = {}\".format(rec))\n",
    "print(\"Accuracy = {}\".format(acc))\n",
    "\n",
    "performance['random_forest'] = (pres, rec, acc)"
   ]
  },
  {
   "cell_type": "code",
   "execution_count": 174,
   "metadata": {},
   "outputs": [
    {
     "data": {
      "text/html": [
       "<div>\n",
       "<style scoped>\n",
       "    .dataframe tbody tr th:only-of-type {\n",
       "        vertical-align: middle;\n",
       "    }\n",
       "\n",
       "    .dataframe tbody tr th {\n",
       "        vertical-align: top;\n",
       "    }\n",
       "\n",
       "    .dataframe thead th {\n",
       "        text-align: right;\n",
       "    }\n",
       "</style>\n",
       "<table border=\"1\" class=\"dataframe\">\n",
       "  <thead>\n",
       "    <tr style=\"text-align: right;\">\n",
       "      <th></th>\n",
       "      <th>feature</th>\n",
       "      <th>importance</th>\n",
       "    </tr>\n",
       "  </thead>\n",
       "  <tbody>\n",
       "    <tr>\n",
       "      <th>17</th>\n",
       "      <td>expected_price</td>\n",
       "      <td>0.170170</td>\n",
       "    </tr>\n",
       "    <tr>\n",
       "      <th>16</th>\n",
       "      <td>price</td>\n",
       "      <td>0.146372</td>\n",
       "    </tr>\n",
       "    <tr>\n",
       "      <th>14</th>\n",
       "      <td>num_of_photos</td>\n",
       "      <td>0.113439</td>\n",
       "    </tr>\n",
       "    <tr>\n",
       "      <th>18</th>\n",
       "      <td>followup</td>\n",
       "      <td>0.107116</td>\n",
       "    </tr>\n",
       "    <tr>\n",
       "      <th>2</th>\n",
       "      <td>dscpt_polarity</td>\n",
       "      <td>0.101994</td>\n",
       "    </tr>\n",
       "    <tr>\n",
       "      <th>3</th>\n",
       "      <td>dscpt_subjectivity</td>\n",
       "      <td>0.100606</td>\n",
       "    </tr>\n",
       "    <tr>\n",
       "      <th>1</th>\n",
       "      <td>bedrooms</td>\n",
       "      <td>0.054621</td>\n",
       "    </tr>\n",
       "    <tr>\n",
       "      <th>15</th>\n",
       "      <td>gender</td>\n",
       "      <td>0.021725</td>\n",
       "    </tr>\n",
       "    <tr>\n",
       "      <th>0</th>\n",
       "      <td>bathrooms</td>\n",
       "      <td>0.020426</td>\n",
       "    </tr>\n",
       "    <tr>\n",
       "      <th>4</th>\n",
       "      <td>Elevator</td>\n",
       "      <td>0.018922</td>\n",
       "    </tr>\n",
       "  </tbody>\n",
       "</table>\n",
       "</div>"
      ],
      "text/plain": [
       "               feature  importance\n",
       "17      expected_price    0.170170\n",
       "16               price    0.146372\n",
       "14       num_of_photos    0.113439\n",
       "18            followup    0.107116\n",
       "2       dscpt_polarity    0.101994\n",
       "3   dscpt_subjectivity    0.100606\n",
       "1             bedrooms    0.054621\n",
       "15              gender    0.021725\n",
       "0            bathrooms    0.020426\n",
       "4             Elevator    0.018922"
      ]
     },
     "execution_count": 174,
     "metadata": {},
     "output_type": "execute_result"
    }
   ],
   "source": [
    "fi_model = pd.DataFrame({'feature': features,\n",
    "                   'importance': RM_model.feature_importances_}).\\\n",
    "                    sort_values('importance', ascending = False)\n",
    "fi_model.head(10)"
   ]
  },
  {
   "cell_type": "markdown",
   "metadata": {},
   "source": [
    "### 3.1.3 xgboost"
   ]
  },
  {
   "cell_type": "code",
   "execution_count": 248,
   "metadata": {},
   "outputs": [
    {
     "data": {
      "text/plain": [
       "XGBClassifier(base_score=0.5, booster='gbtree', colsample_bylevel=1,\n",
       "              colsample_bynode=1, colsample_bytree=1, eta=0.3, gamma=0,\n",
       "              gpu_id=-1, importance_type='gain', interaction_constraints='',\n",
       "              learning_rate=0.300000012, max_delta_step=0, max_depth=3,\n",
       "              min_child_weight=1, missing=nan, monotone_constraints='()',\n",
       "              n_estimators=100, n_jobs=0, num_parallel_tree=1,\n",
       "              objective='binary:logistic', random_state=0, reg_alpha=0,\n",
       "              reg_lambda=1, scale_pos_weight=1, subsample=1,\n",
       "              tree_method='exact', validate_parameters=1, verbosity=None)"
      ]
     },
     "execution_count": 248,
     "metadata": {},
     "output_type": "execute_result"
    }
   ],
   "source": [
    "from xgboost import XGBClassifier\n",
    "\n",
    "param = {\n",
    "    'eta': 0.3, \n",
    "    'max_depth': 3,  \n",
    "    'objective': 'binary:logistic',\n",
    "} \n",
    "\n",
    "xgb_model = XGBClassifier(**param)\n",
    "xgb_model.fit(X=train, y=train_labels)"
   ]
  },
  {
   "cell_type": "code",
   "execution_count": 249,
   "metadata": {},
   "outputs": [
    {
     "name": "stdout",
     "output_type": "stream",
     "text": [
      "Precision = 0.649815180338051\n",
      "Recall = 0.5215188122870623\n",
      "Accuracy = 0.7672483388188537\n"
     ]
    }
   ],
   "source": [
    "xgb_preds = xgb_model.predict(test)\n",
    "\n",
    "pres, rec, acc = (\n",
    "    precision_score(test_labels, xgb_preds, average='macro'),\n",
    "    recall_score(test_labels, xgb_preds, average='macro'),\n",
    "    accuracy_score(test_labels, xgb_preds)\n",
    ")\n",
    "print(\"Precision = {}\".format(pres))\n",
    "print(\"Recall = {}\".format(rec))\n",
    "print(\"Accuracy = {}\".format(acc))\n",
    "\n",
    "performance['xgboost'] = (pres, rec, acc)"
   ]
  },
  {
   "cell_type": "markdown",
   "metadata": {},
   "source": [
    "## 3.2 Compare"
   ]
  },
  {
   "cell_type": "code",
   "execution_count": 256,
   "metadata": {},
   "outputs": [
    {
     "data": {
      "text/html": [
       "<div>\n",
       "<style scoped>\n",
       "    .dataframe tbody tr th:only-of-type {\n",
       "        vertical-align: middle;\n",
       "    }\n",
       "\n",
       "    .dataframe tbody tr th {\n",
       "        vertical-align: top;\n",
       "    }\n",
       "\n",
       "    .dataframe thead th {\n",
       "        text-align: right;\n",
       "    }\n",
       "</style>\n",
       "<table border=\"1\" class=\"dataframe\">\n",
       "  <thead>\n",
       "    <tr style=\"text-align: right;\">\n",
       "      <th></th>\n",
       "      <th>logistic</th>\n",
       "      <th>decision_tree</th>\n",
       "      <th>xgboost</th>\n",
       "      <th>random_forest</th>\n",
       "    </tr>\n",
       "  </thead>\n",
       "  <tbody>\n",
       "    <tr>\n",
       "      <th>precision</th>\n",
       "      <td>0.382934</td>\n",
       "      <td>0.525407</td>\n",
       "      <td>0.649815</td>\n",
       "      <td>0.589083</td>\n",
       "    </tr>\n",
       "    <tr>\n",
       "      <th>recall</th>\n",
       "      <td>0.499959</td>\n",
       "      <td>0.523305</td>\n",
       "      <td>0.521519</td>\n",
       "      <td>0.517364</td>\n",
       "    </tr>\n",
       "    <tr>\n",
       "      <th>accuracy</th>\n",
       "      <td>0.765820</td>\n",
       "      <td>0.672235</td>\n",
       "      <td>0.767248</td>\n",
       "      <td>0.759051</td>\n",
       "    </tr>\n",
       "  </tbody>\n",
       "</table>\n",
       "</div>"
      ],
      "text/plain": [
       "           logistic  decision_tree   xgboost  random_forest\n",
       "precision  0.382934       0.525407  0.649815       0.589083\n",
       "recall     0.499959       0.523305  0.521519       0.517364\n",
       "accuracy   0.765820       0.672235  0.767248       0.759051"
      ]
     },
     "execution_count": 256,
     "metadata": {},
     "output_type": "execute_result"
    }
   ],
   "source": [
    "pd.DataFrame(performance, index=['precision', 'recall', 'accuracy'])"
   ]
  },
  {
   "cell_type": "code",
   "execution_count": 257,
   "metadata": {},
   "outputs": [
    {
     "name": "stdout",
     "output_type": "stream",
     "text": [
      "              precision    recall  f1-score   support\n",
      "\n",
      "           0       0.77      0.98      0.87     12333\n",
      "           1       0.53      0.06      0.11      3770\n",
      "\n",
      "    accuracy                           0.77     16103\n",
      "   macro avg       0.65      0.52      0.49     16103\n",
      "weighted avg       0.72      0.77      0.69     16103\n",
      "\n"
     ]
    }
   ],
   "source": [
    "print(classification_report(test_labels, xgb_preds))"
   ]
  },
  {
   "cell_type": "code",
   "execution_count": 258,
   "metadata": {},
   "outputs": [
    {
     "data": {
      "text/plain": [
       "array([[12244,    89],\n",
       "       [ 3668,   102]], dtype=int64)"
      ]
     },
     "execution_count": 258,
     "metadata": {},
     "output_type": "execute_result"
    }
   ],
   "source": [
    "confusion_matrix(test_labels, best_preds)"
   ]
  },
  {
   "cell_type": "code",
   "execution_count": 259,
   "metadata": {},
   "outputs": [
    {
     "data": {
      "image/png": "[encoded data removed]",
      "text/plain": [
       "<Figure size 432x288 with 1 Axes>"
      ]
     },
     "metadata": {
      "needs_background": "light"
     },
     "output_type": "display_data"
    }
   ],
   "source": [
    "from xgboost import plot_importance\n",
    "from matplotlib import pyplot\n",
    "plot_importance(xgb_model, max_num_features=10, height=0.8)\n",
    "pyplot.show()"
   ]
  },
  {
   "cell_type": "markdown",
   "metadata": {},
   "source": [
    "## 可以进行的模型改进\n",
    "\n",
    "1. 处理数据不平衡问题，防止出现某一个类别几乎dominate\n",
    "2. 模型参数调整\n",
    "3. 其他变量的研究"
   ]
  }
 ],
 "metadata": {
  "kernelspec": {
   "display_name": "Python 3",
   "language": "python",
   "name": "python3"
  },
  "language_info": {
   "codemirror_mode": {
    "name": "ipython",
    "version": 3
   },
   "file_extension": ".py",
   "mimetype": "text/x-python",
   "name": "python",
   "nbconvert_exporter": "python",
   "pygments_lexer": "ipython3",
   "version": "3.8.3"
  }
 },
 "nbformat": 4,
 "nbformat_minor": 4
}
